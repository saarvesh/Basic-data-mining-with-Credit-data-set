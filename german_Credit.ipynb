{
 "cells": [
  {
   "cell_type": "code",
   "execution_count": 107,
   "metadata": {
    "collapsed": true
   },
   "outputs": [],
   "source": [
    "import pandas as pd\n",
    "import numpy as np\n",
    "%matplotlib inline  "
   ]
  },
  {
   "cell_type": "code",
   "execution_count": 4,
   "metadata": {
    "collapsed": false
   },
   "outputs": [],
   "source": [
    " train = pd.read_csv('C:/Users/ssssa/Desktop/Graman_credit/german_credit.csv')"
   ]
  },
  {
   "cell_type": "code",
   "execution_count": 108,
   "metadata": {
    "collapsed": false
   },
   "outputs": [
    {
     "data": {
      "image/png": "[encoded data removed]",
      "text/plain": [
       "<matplotlib.figure.Figure at 0xcc88c50>"
      ]
     },
     "metadata": {},
     "output_type": "display_data"
    }
   ],
   "source": [
    "# Data Exploration\n",
    "import matplotlib.pylab as plt\n",
    "#plotting histogram\n",
    "train.hist()\n",
    "plt.show()\n"
   ]
  },
  {
   "cell_type": "code",
   "execution_count": 112,
   "metadata": {
    "collapsed": false
   },
   "outputs": [
    {
     "data": {
      "text/html": [
       "<div>\n",
       "<table border=\"1\" class=\"dataframe\">\n",
       "  <thead>\n",
       "    <tr style=\"text-align: right;\">\n",
       "      <th></th>\n",
       "      <th>1.000000000000000000e+00</th>\n",
       "    </tr>\n",
       "  </thead>\n",
       "  <tbody>\n",
       "    <tr>\n",
       "      <th>count</th>\n",
       "      <td>20999.000000</td>\n",
       "    </tr>\n",
       "    <tr>\n",
       "      <th>mean</th>\n",
       "      <td>29.267727</td>\n",
       "    </tr>\n",
       "    <tr>\n",
       "      <th>std</th>\n",
       "      <td>124.549665</td>\n",
       "    </tr>\n",
       "    <tr>\n",
       "      <th>min</th>\n",
       "      <td>0.000000</td>\n",
       "    </tr>\n",
       "    <tr>\n",
       "      <th>25%</th>\n",
       "      <td>1.000000</td>\n",
       "    </tr>\n",
       "    <tr>\n",
       "      <th>50%</th>\n",
       "      <td>2.000000</td>\n",
       "    </tr>\n",
       "    <tr>\n",
       "      <th>75%</th>\n",
       "      <td>4.000000</td>\n",
       "    </tr>\n",
       "    <tr>\n",
       "      <th>max</th>\n",
       "      <td>994.000000</td>\n",
       "    </tr>\n",
       "  </tbody>\n",
       "</table>\n",
       "</div>"
      ],
      "text/plain": [
       "       1.000000000000000000e+00\n",
       "count              20999.000000\n",
       "mean                  29.267727\n",
       "std                  124.549665\n",
       "min                    0.000000\n",
       "25%                    1.000000\n",
       "50%                    2.000000\n",
       "75%                    4.000000\n",
       "max                  994.000000"
      ]
     },
     "execution_count": 112,
     "metadata": {},
     "output_type": "execute_result"
    }
   ],
   "source": [
    "#Statistical analysis of the Mean median mode\n",
    "train.describe() \n"
   ]
  },
  {
   "cell_type": "code",
   "execution_count": 113,
   "metadata": {
    "collapsed": false
   },
   "outputs": [
    {
     "data": {
      "text/plain": [
       "1.000000000000000000e+00    float64\n",
       "dtype: object"
      ]
     },
     "execution_count": 113,
     "metadata": {},
     "output_type": "execute_result"
    }
   ],
   "source": [
    "\n",
    "train.dtypes\n",
    "\n"
   ]
  },
  {
   "cell_type": "code",
   "execution_count": 114,
   "metadata": {
    "collapsed": false
   },
   "outputs": [
    {
     "name": "stdout",
     "output_type": "stream",
     "text": [
      "<class 'pandas.core.frame.DataFrame'>\n",
      "RangeIndex: 20999 entries, 0 to 20998\n",
      "Data columns (total 1 columns):\n",
      "1.000000000000000000e+00    20999 non-null float64\n",
      "dtypes: float64(1)\n",
      "memory usage: 164.1 KB\n"
     ]
    }
   ],
   "source": [
    "train.info()\n",
    "\n"
   ]
  },
  {
   "cell_type": "code",
   "execution_count": 115,
   "metadata": {
    "collapsed": false
   },
   "outputs": [
    {
     "name": "stderr",
     "output_type": "stream",
     "text": [
      "C:\\Users\\ssssa\\Anaconda2\\lib\\site-packages\\ipykernel\\__main__.py:1: FutureWarning: \n",
      "The default value for 'return_type' will change to 'axes' in a future release.\n",
      " To use the future behavior now, set return_type='axes'.\n",
      " To keep the previous behavior and silence this warning, set return_type='dict'.\n",
      "  if __name__ == '__main__':\n"
     ]
    },
    {
     "data": {
      "text/plain": [
       "{'boxes': [<matplotlib.lines.Line2D at 0xc454f98>],\n",
       " 'caps': [<matplotlib.lines.Line2D at 0xc48ec88>,\n",
       "  <matplotlib.lines.Line2D at 0xc451240>],\n",
       " 'fliers': [<matplotlib.lines.Line2D at 0xc451d30>],\n",
       " 'means': [],\n",
       " 'medians': [<matplotlib.lines.Line2D at 0xc4517b8>],\n",
       " 'whiskers': [<matplotlib.lines.Line2D at 0xc48e128>,\n",
       "  <matplotlib.lines.Line2D at 0xc48e710>]}"
      ]
     },
     "execution_count": 115,
     "metadata": {},
     "output_type": "execute_result"
    },
    {
     "data": {
      "image/png": "[encoded data removed]",
      "text/plain": [
       "<matplotlib.figure.Figure at 0xc9447f0>"
      ]
     },
     "metadata": {},
     "output_type": "display_data"
    }
   ],
   "source": [
    "train.ix[: ,0:5].boxplot()\n"
   ]
  },
  {
   "cell_type": "code",
   "execution_count": 120,
   "metadata": {
    "collapsed": false
   },
   "outputs": [
    {
     "data": {
      "text/plain": [
       "<matplotlib.axes._subplots.AxesSubplot at 0xbd209e8>"
      ]
     },
     "execution_count": 120,
     "metadata": {},
     "output_type": "execute_result"
    },
    {
     "data": {
      "image/png": "[encoded data removed]",
      "text/plain": [
       "<matplotlib.figure.Figure at 0xc5a4a58>"
      ]
     },
     "metadata": {},
     "output_type": "display_data"
    }
   ],
   "source": [
    "train.ix[:,0:1].plot()"
   ]
  },
  {
   "cell_type": "code",
   "execution_count": 129,
   "metadata": {
    "collapsed": false
   },
   "outputs": [
    {
     "data": {
      "text/plain": [
       "array([[<matplotlib.axes._subplots.AxesSubplot object at 0x0000000011D5C7F0>]], dtype=object)"
      ]
     },
     "execution_count": 129,
     "metadata": {},
     "output_type": "execute_result"
    },
    {
     "data": {
      "image/png": "[encoded data removed]",
      "text/plain": [
       "<matplotlib.figure.Figure at 0x133f12e8>"
      ]
     },
     "metadata": {},
     "output_type": "display_data"
    }
   ],
   "source": [
    "train.hist(bins=50)"
   ]
  },
  {
   "cell_type": "code",
   "execution_count": 140,
   "metadata": {
    "collapsed": false
   },
   "outputs": [
    {
     "data": {
      "text/plain": [
       "<matplotlib.axes._subplots.AxesSubplot at 0x13b205c0>"
      ]
     },
     "execution_count": 140,
     "metadata": {},
     "output_type": "execute_result"
    },
    {
     "data": {
      "image/png": "[encoded data removed]",
      "text/plain": [
       "<matplotlib.figure.Figure at 0x1329cb00>"
      ]
     },
     "metadata": {},
     "output_type": "display_data"
    }
   ],
   "source": [
    "train.ix[: ,0:2].plot()\n"
   ]
  },
  {
   "cell_type": "code",
   "execution_count": 145,
   "metadata": {
    "collapsed": false
   },
   "outputs": [
    {
     "data": {
      "text/plain": [
       "<matplotlib.axes._subplots.AxesSubplot at 0x14440dd8>"
      ]
     },
     "execution_count": 145,
     "metadata": {},
     "output_type": "execute_result"
    },
    {
     "data": {
      "image/png": "[encoded data removed]",
      "text/plain": [
       "<matplotlib.figure.Figure at 0x147db5f8>"
      ]
     },
     "metadata": {},
     "output_type": "display_data"
    }
   ],
   "source": [
    "train.ix[: ,1:4].plot()"
   ]
  },
  {
   "cell_type": "code",
   "execution_count": 152,
   "metadata": {
    "collapsed": false
   },
   "outputs": [
    {
     "data": {
      "text/plain": [
       "array([[<matplotlib.axes._subplots.AxesSubplot object at 0x00000000174D6278>,\n",
       "        <matplotlib.axes._subplots.AxesSubplot object at 0x0000000017A750B8>],\n",
       "       [<matplotlib.axes._subplots.AxesSubplot object at 0x0000000017BCD940>,\n",
       "        <matplotlib.axes._subplots.AxesSubplot object at 0x0000000017C71D68>]], dtype=object)"
      ]
     },
     "execution_count": 152,
     "metadata": {},
     "output_type": "execute_result"
    },
    {
     "data": {
      "image/png": "[encoded data removed]",
      "text/plain": [
       "<matplotlib.figure.Figure at 0x179dcc18>"
      ]
     },
     "metadata": {},
     "output_type": "display_data"
    }
   ],
   "source": [
    "train.ix[: ,6:10].hist()\n"
   ]
  },
  {
   "cell_type": "code",
   "execution_count": 148,
   "metadata": {
    "collapsed": false
   },
   "outputs": [
    {
     "data": {
      "text/plain": [
       "<matplotlib.axes._subplots.AxesSubplot at 0x150d3b70>"
      ]
     },
     "execution_count": 148,
     "metadata": {},
     "output_type": "execute_result"
    },
    {
     "data": {
      "image/png": "[encoded data removed]",
      "text/plain": [
       "<matplotlib.figure.Figure at 0x150dfd68>"
      ]
     },
     "metadata": {},
     "output_type": "display_data"
    }
   ],
   "source": [
    "train.ix[: ,4:5].plot()"
   ]
  },
  {
   "cell_type": "code",
   "execution_count": 151,
   "metadata": {
    "collapsed": false
   },
   "outputs": [
    {
     "data": {
      "text/plain": [
       "array([[<matplotlib.axes._subplots.AxesSubplot object at 0x00000000171C7A90>,\n",
       "        <matplotlib.axes._subplots.AxesSubplot object at 0x0000000017247BE0>],\n",
       "       [<matplotlib.axes._subplots.AxesSubplot object at 0x00000000173F1630>,\n",
       "        <matplotlib.axes._subplots.AxesSubplot object at 0x0000000017497A90>]], dtype=object)"
      ]
     },
     "execution_count": 151,
     "metadata": {},
     "output_type": "execute_result"
    },
    {
     "data": {
      "image/png": "[encoded data removed]",
      "text/plain": [
       "<matplotlib.figure.Figure at 0x161140f0>"
      ]
     },
     "metadata": {},
     "output_type": "display_data"
    }
   ],
   "source": [
    "train.ix[: ,1:5].hist()"
   ]
  },
  {
   "cell_type": "code",
   "execution_count": 153,
   "metadata": {
    "collapsed": false
   },
   "outputs": [
    {
     "data": {
      "text/plain": [
       "<matplotlib.axes._subplots.AxesSubplot at 0x17df9be0>"
      ]
     },
     "execution_count": 153,
     "metadata": {},
     "output_type": "execute_result"
    },
    {
     "data": {
      "image/png": "[encoded data removed]",
      "text/plain": [
       "<matplotlib.figure.Figure at 0x1818fda0>"
      ]
     },
     "metadata": {},
     "output_type": "display_data"
    }
   ],
   "source": [
    "train.ix[: ,4:7].plot()"
   ]
  },
  {
   "cell_type": "code",
   "execution_count": 155,
   "metadata": {
    "collapsed": false
   },
   "outputs": [
    {
     "data": {
      "text/plain": [
       "array([[<matplotlib.axes._subplots.AxesSubplot object at 0x0000000017EFB4A8>,\n",
       "        <matplotlib.axes._subplots.AxesSubplot object at 0x000000001851E710>],\n",
       "       [<matplotlib.axes._subplots.AxesSubplot object at 0x00000000187F8668>,\n",
       "        <matplotlib.axes._subplots.AxesSubplot object at 0x00000000188E05C0>],\n",
       "       [<matplotlib.axes._subplots.AxesSubplot object at 0x00000000189EB3C8>,\n",
       "        <matplotlib.axes._subplots.AxesSubplot object at 0x0000000018A33D30>]], dtype=object)"
      ]
     },
     "execution_count": 155,
     "metadata": {},
     "output_type": "execute_result"
    },
    {
     "data": {
      "image/png": "[encoded data removed]",
      "text/plain": [
       "<matplotlib.figure.Figure at 0x17f47cc0>"
      ]
     },
     "metadata": {},
     "output_type": "display_data"
    }
   ],
   "source": [
    "train.ix[: ,15:20].hist()"
   ]
  },
  {
   "cell_type": "code",
   "execution_count": 27,
   "metadata": {
    "collapsed": false
   },
   "outputs": [],
   "source": [
    "# Data Preprocessing"
   ]
  },
  {
   "cell_type": "code",
   "execution_count": null,
   "metadata": {
    "collapsed": true
   },
   "outputs": [],
   "source": [
    "\n",
    "from sklearn import preprocessing"
   ]
  },
  {
   "cell_type": "code",
   "execution_count": 30,
   "metadata": {
    "collapsed": false
   },
   "outputs": [],
   "source": [
    "#Standardization of the data\n",
    "X_scaled = preprocessing.scale(train)\n",
    "np.savetxt(\"C:/Users/ssssa/Desktop/standardized.txt\",X_scaled, delimiter=\",\")"
   ]
  },
  {
   "cell_type": "code",
   "execution_count": 29,
   "metadata": {
    "collapsed": true
   },
   "outputs": [],
   "source": [
    "from sklearn.preprocessing import LabelEncoder"
   ]
  },
  {
   "cell_type": "code",
   "execution_count": 134,
   "metadata": {
    "collapsed": false
   },
   "outputs": [
    {
     "data": {
      "text/html": [
       "<div>\n",
       "<table border=\"1\" class=\"dataframe\">\n",
       "  <thead>\n",
       "    <tr style=\"text-align: right;\">\n",
       "      <th></th>\n",
       "      <th>Creditability</th>\n",
       "      <th>Account Balance</th>\n",
       "      <th>Duration of Credit (month)</th>\n",
       "      <th>Payment Status of Previous Credit</th>\n",
       "      <th>Purpose</th>\n",
       "      <th>Credit Amount</th>\n",
       "      <th>Value Savings/Stocks</th>\n",
       "      <th>Length of current employment</th>\n",
       "      <th>Instalment per cent</th>\n",
       "      <th>Sex &amp; Marital Status</th>\n",
       "      <th>...</th>\n",
       "      <th>Duration in Current address</th>\n",
       "      <th>Most valuable available asset</th>\n",
       "      <th>Age (years)</th>\n",
       "      <th>Concurrent Credits</th>\n",
       "      <th>Type of apartment</th>\n",
       "      <th>No of Credits at this Bank</th>\n",
       "      <th>Occupation</th>\n",
       "      <th>No of dependents</th>\n",
       "      <th>Telephone</th>\n",
       "      <th>Foreign Worker</th>\n",
       "    </tr>\n",
       "  </thead>\n",
       "  <tbody>\n",
       "    <tr>\n",
       "      <th>0</th>\n",
       "      <td>1</td>\n",
       "      <td>1</td>\n",
       "      <td>18</td>\n",
       "      <td>4</td>\n",
       "      <td>2</td>\n",
       "      <td>1049</td>\n",
       "      <td>1</td>\n",
       "      <td>2</td>\n",
       "      <td>4</td>\n",
       "      <td>2</td>\n",
       "      <td>...</td>\n",
       "      <td>4</td>\n",
       "      <td>2</td>\n",
       "      <td>21</td>\n",
       "      <td>3</td>\n",
       "      <td>1</td>\n",
       "      <td>1</td>\n",
       "      <td>3</td>\n",
       "      <td>1</td>\n",
       "      <td>1</td>\n",
       "      <td>1</td>\n",
       "    </tr>\n",
       "    <tr>\n",
       "      <th>1</th>\n",
       "      <td>1</td>\n",
       "      <td>1</td>\n",
       "      <td>9</td>\n",
       "      <td>4</td>\n",
       "      <td>0</td>\n",
       "      <td>2799</td>\n",
       "      <td>1</td>\n",
       "      <td>3</td>\n",
       "      <td>2</td>\n",
       "      <td>3</td>\n",
       "      <td>...</td>\n",
       "      <td>2</td>\n",
       "      <td>1</td>\n",
       "      <td>36</td>\n",
       "      <td>3</td>\n",
       "      <td>1</td>\n",
       "      <td>2</td>\n",
       "      <td>3</td>\n",
       "      <td>2</td>\n",
       "      <td>1</td>\n",
       "      <td>1</td>\n",
       "    </tr>\n",
       "    <tr>\n",
       "      <th>2</th>\n",
       "      <td>1</td>\n",
       "      <td>2</td>\n",
       "      <td>12</td>\n",
       "      <td>2</td>\n",
       "      <td>9</td>\n",
       "      <td>841</td>\n",
       "      <td>2</td>\n",
       "      <td>4</td>\n",
       "      <td>2</td>\n",
       "      <td>2</td>\n",
       "      <td>...</td>\n",
       "      <td>4</td>\n",
       "      <td>1</td>\n",
       "      <td>23</td>\n",
       "      <td>3</td>\n",
       "      <td>1</td>\n",
       "      <td>1</td>\n",
       "      <td>2</td>\n",
       "      <td>1</td>\n",
       "      <td>1</td>\n",
       "      <td>1</td>\n",
       "    </tr>\n",
       "    <tr>\n",
       "      <th>3</th>\n",
       "      <td>1</td>\n",
       "      <td>1</td>\n",
       "      <td>12</td>\n",
       "      <td>4</td>\n",
       "      <td>0</td>\n",
       "      <td>2122</td>\n",
       "      <td>1</td>\n",
       "      <td>3</td>\n",
       "      <td>3</td>\n",
       "      <td>3</td>\n",
       "      <td>...</td>\n",
       "      <td>2</td>\n",
       "      <td>1</td>\n",
       "      <td>39</td>\n",
       "      <td>3</td>\n",
       "      <td>1</td>\n",
       "      <td>2</td>\n",
       "      <td>2</td>\n",
       "      <td>2</td>\n",
       "      <td>1</td>\n",
       "      <td>2</td>\n",
       "    </tr>\n",
       "    <tr>\n",
       "      <th>4</th>\n",
       "      <td>1</td>\n",
       "      <td>1</td>\n",
       "      <td>12</td>\n",
       "      <td>4</td>\n",
       "      <td>0</td>\n",
       "      <td>2171</td>\n",
       "      <td>1</td>\n",
       "      <td>3</td>\n",
       "      <td>4</td>\n",
       "      <td>3</td>\n",
       "      <td>...</td>\n",
       "      <td>4</td>\n",
       "      <td>2</td>\n",
       "      <td>38</td>\n",
       "      <td>1</td>\n",
       "      <td>2</td>\n",
       "      <td>2</td>\n",
       "      <td>2</td>\n",
       "      <td>1</td>\n",
       "      <td>1</td>\n",
       "      <td>2</td>\n",
       "    </tr>\n",
       "  </tbody>\n",
       "</table>\n",
       "<p>5 rows × 21 columns</p>\n",
       "</div>"
      ],
      "text/plain": [
       "   Creditability  Account Balance  Duration of Credit (month)  \\\n",
       "0              1                1                          18   \n",
       "1              1                1                           9   \n",
       "2              1                2                          12   \n",
       "3              1                1                          12   \n",
       "4              1                1                          12   \n",
       "\n",
       "   Payment Status of Previous Credit  Purpose  Credit Amount  \\\n",
       "0                                  4        2           1049   \n",
       "1                                  4        0           2799   \n",
       "2                                  2        9            841   \n",
       "3                                  4        0           2122   \n",
       "4                                  4        0           2171   \n",
       "\n",
       "   Value Savings/Stocks  Length of current employment  Instalment per cent  \\\n",
       "0                     1                             2                    4   \n",
       "1                     1                             3                    2   \n",
       "2                     2                             4                    2   \n",
       "3                     1                             3                    3   \n",
       "4                     1                             3                    4   \n",
       "\n",
       "   Sex & Marital Status       ...        Duration in Current address  \\\n",
       "0                     2       ...                                  4   \n",
       "1                     3       ...                                  2   \n",
       "2                     2       ...                                  4   \n",
       "3                     3       ...                                  2   \n",
       "4                     3       ...                                  4   \n",
       "\n",
       "   Most valuable available asset  Age (years)  Concurrent Credits  \\\n",
       "0                              2           21                   3   \n",
       "1                              1           36                   3   \n",
       "2                              1           23                   3   \n",
       "3                              1           39                   3   \n",
       "4                              2           38                   1   \n",
       "\n",
       "   Type of apartment  No of Credits at this Bank  Occupation  \\\n",
       "0                  1                           1           3   \n",
       "1                  1                           2           3   \n",
       "2                  1                           1           2   \n",
       "3                  1                           2           2   \n",
       "4                  2                           2           2   \n",
       "\n",
       "   No of dependents  Telephone  Foreign Worker  \n",
       "0                 1          1               1  \n",
       "1                 2          1               1  \n",
       "2                 1          1               1  \n",
       "3                 2          1               2  \n",
       "4                 1          1               2  \n",
       "\n",
       "[5 rows x 21 columns]"
      ]
     },
     "execution_count": 134,
     "metadata": {},
     "output_type": "execute_result"
    }
   ],
   "source": [
    "# Label encoding\n",
    "le=LabelEncoder()\n",
    "train = pd.read_csv('C:/Users/ssssa/Desktop/Graman_credit/german_credit.csv')\n",
    "train.head(5)    "
   ]
  },
  {
   "cell_type": "code",
   "execution_count": 33,
   "metadata": {
    "collapsed": true
   },
   "outputs": [],
   "source": [
    "le.fit(train.values.ravel())\n",
    "a= le.transform(train.values.ravel())"
   ]
  },
  {
   "cell_type": "code",
   "execution_count": 138,
   "metadata": {
    "collapsed": false
   },
   "outputs": [
    {
     "data": {
      "text/html": [
       "<div>\n",
       "<table border=\"1\" class=\"dataframe\">\n",
       "  <thead>\n",
       "    <tr style=\"text-align: right;\">\n",
       "      <th></th>\n",
       "      <th>-2.269648822046876624e-01</th>\n",
       "    </tr>\n",
       "  </thead>\n",
       "  <tbody>\n",
       "    <tr>\n",
       "      <th>0</th>\n",
       "      <td>-0.098499</td>\n",
       "    </tr>\n",
       "    <tr>\n",
       "      <th>1</th>\n",
       "      <td>-0.202878</td>\n",
       "    </tr>\n",
       "    <tr>\n",
       "      <th>2</th>\n",
       "      <td>-0.218936</td>\n",
       "    </tr>\n",
       "    <tr>\n",
       "      <th>3</th>\n",
       "      <td>1.274480</td>\n",
       "    </tr>\n",
       "    <tr>\n",
       "      <th>4</th>\n",
       "      <td>-0.226965</td>\n",
       "    </tr>\n",
       "  </tbody>\n",
       "</table>\n",
       "</div>"
      ],
      "text/plain": [
       "   -2.269648822046876624e-01\n",
       "0                  -0.098499\n",
       "1                  -0.202878\n",
       "2                  -0.218936\n",
       "3                   1.274480\n",
       "4                  -0.226965"
      ]
     },
     "execution_count": 138,
     "metadata": {},
     "output_type": "execute_result"
    }
   ],
   "source": [
    "df=np.savetxt(\"C:/Users/ssssa/Desktop/Encoded.csv\",a, delimiter=\",\")\n",
    "a.head()\n"
   ]
  },
  {
   "cell_type": "code",
   "execution_count": 37,
   "metadata": {
    "collapsed": false
   },
   "outputs": [],
   "source": [
    "# Standardization of the data\n",
    "train=pd.read_csv(\"C:/Users/ssssa/Desktop/Encoded.csv\")\n",
    "\n"
   ]
  },
  {
   "cell_type": "code",
   "execution_count": 157,
   "metadata": {
    "collapsed": false
   },
   "outputs": [],
   "source": [
    "std_scale = preprocessing.StandardScaler().fit(train)\n",
    "df_std = std_scale.transform(train)\n",
    "b= np.asarray(df_std)\n",
    "np.savetxt(\"C:/Users/ssssa/Desktop/German_Encoded_Standard.csv\",b, delimiter=\",\")"
   ]
  },
  {
   "cell_type": "code",
   "execution_count": 161,
   "metadata": {
    "collapsed": false
   },
   "outputs": [
    {
     "data": {
      "text/html": [
       "<div>\n",
       "<table border=\"1\" class=\"dataframe\">\n",
       "  <thead>\n",
       "    <tr style=\"text-align: right;\">\n",
       "      <th></th>\n",
       "      <th>-9.849901330665331023e-02</th>\n",
       "    </tr>\n",
       "  </thead>\n",
       "  <tbody>\n",
       "    <tr>\n",
       "      <th>0</th>\n",
       "      <td>-0.202878</td>\n",
       "    </tr>\n",
       "    <tr>\n",
       "      <th>1</th>\n",
       "      <td>-0.218936</td>\n",
       "    </tr>\n",
       "    <tr>\n",
       "      <th>2</th>\n",
       "      <td>1.274480</td>\n",
       "    </tr>\n",
       "    <tr>\n",
       "      <th>3</th>\n",
       "      <td>-0.226965</td>\n",
       "    </tr>\n",
       "    <tr>\n",
       "      <th>4</th>\n",
       "      <td>-0.218936</td>\n",
       "    </tr>\n",
       "    <tr>\n",
       "      <th>5</th>\n",
       "      <td>-0.202878</td>\n",
       "    </tr>\n",
       "    <tr>\n",
       "      <th>6</th>\n",
       "      <td>-0.218936</td>\n",
       "    </tr>\n",
       "    <tr>\n",
       "      <th>7</th>\n",
       "      <td>-0.226965</td>\n",
       "    </tr>\n",
       "    <tr>\n",
       "      <th>8</th>\n",
       "      <td>-0.202878</td>\n",
       "    </tr>\n",
       "    <tr>\n",
       "      <th>9</th>\n",
       "      <td>-0.218936</td>\n",
       "    </tr>\n",
       "    <tr>\n",
       "      <th>10</th>\n",
       "      <td>-0.074412</td>\n",
       "    </tr>\n",
       "    <tr>\n",
       "      <th>11</th>\n",
       "      <td>-0.210907</td>\n",
       "    </tr>\n",
       "    <tr>\n",
       "      <th>12</th>\n",
       "      <td>-0.226965</td>\n",
       "    </tr>\n",
       "    <tr>\n",
       "      <th>13</th>\n",
       "      <td>-0.226965</td>\n",
       "    </tr>\n",
       "    <tr>\n",
       "      <th>14</th>\n",
       "      <td>-0.210907</td>\n",
       "    </tr>\n",
       "    <tr>\n",
       "      <th>15</th>\n",
       "      <td>-0.226965</td>\n",
       "    </tr>\n",
       "    <tr>\n",
       "      <th>16</th>\n",
       "      <td>-0.226965</td>\n",
       "    </tr>\n",
       "    <tr>\n",
       "      <th>17</th>\n",
       "      <td>-0.226965</td>\n",
       "    </tr>\n",
       "    <tr>\n",
       "      <th>18</th>\n",
       "      <td>-0.226965</td>\n",
       "    </tr>\n",
       "    <tr>\n",
       "      <th>19</th>\n",
       "      <td>-0.226965</td>\n",
       "    </tr>\n",
       "    <tr>\n",
       "      <th>20</th>\n",
       "      <td>-0.162732</td>\n",
       "    </tr>\n",
       "    <tr>\n",
       "      <th>21</th>\n",
       "      <td>-0.202878</td>\n",
       "    </tr>\n",
       "    <tr>\n",
       "      <th>22</th>\n",
       "      <td>-0.234994</td>\n",
       "    </tr>\n",
       "    <tr>\n",
       "      <th>23</th>\n",
       "      <td>4.582476</td>\n",
       "    </tr>\n",
       "    <tr>\n",
       "      <th>24</th>\n",
       "      <td>-0.226965</td>\n",
       "    </tr>\n",
       "    <tr>\n",
       "      <th>25</th>\n",
       "      <td>-0.210907</td>\n",
       "    </tr>\n",
       "    <tr>\n",
       "      <th>26</th>\n",
       "      <td>-0.218936</td>\n",
       "    </tr>\n",
       "    <tr>\n",
       "      <th>27</th>\n",
       "      <td>-0.210907</td>\n",
       "    </tr>\n",
       "    <tr>\n",
       "      <th>28</th>\n",
       "      <td>-0.226965</td>\n",
       "    </tr>\n",
       "    <tr>\n",
       "      <th>29</th>\n",
       "      <td>-0.218936</td>\n",
       "    </tr>\n",
       "    <tr>\n",
       "      <th>...</th>\n",
       "      <td>...</td>\n",
       "    </tr>\n",
       "    <tr>\n",
       "      <th>20967</th>\n",
       "      <td>-0.202878</td>\n",
       "    </tr>\n",
       "    <tr>\n",
       "      <th>20968</th>\n",
       "      <td>0.174491</td>\n",
       "    </tr>\n",
       "    <tr>\n",
       "      <th>20969</th>\n",
       "      <td>-0.210907</td>\n",
       "    </tr>\n",
       "    <tr>\n",
       "      <th>20970</th>\n",
       "      <td>-0.218936</td>\n",
       "    </tr>\n",
       "    <tr>\n",
       "      <th>20971</th>\n",
       "      <td>-0.226965</td>\n",
       "    </tr>\n",
       "    <tr>\n",
       "      <th>20972</th>\n",
       "      <td>-0.202878</td>\n",
       "    </tr>\n",
       "    <tr>\n",
       "      <th>20973</th>\n",
       "      <td>-0.226965</td>\n",
       "    </tr>\n",
       "    <tr>\n",
       "      <th>20974</th>\n",
       "      <td>-0.218936</td>\n",
       "    </tr>\n",
       "    <tr>\n",
       "      <th>20975</th>\n",
       "      <td>-0.226965</td>\n",
       "    </tr>\n",
       "    <tr>\n",
       "      <th>20976</th>\n",
       "      <td>-0.234994</td>\n",
       "    </tr>\n",
       "    <tr>\n",
       "      <th>20977</th>\n",
       "      <td>-0.226965</td>\n",
       "    </tr>\n",
       "    <tr>\n",
       "      <th>20978</th>\n",
       "      <td>-0.002150</td>\n",
       "    </tr>\n",
       "    <tr>\n",
       "      <th>20979</th>\n",
       "      <td>-0.218936</td>\n",
       "    </tr>\n",
       "    <tr>\n",
       "      <th>20980</th>\n",
       "      <td>-0.218936</td>\n",
       "    </tr>\n",
       "    <tr>\n",
       "      <th>20981</th>\n",
       "      <td>6.710192</td>\n",
       "    </tr>\n",
       "    <tr>\n",
       "      <th>20982</th>\n",
       "      <td>-0.194848</td>\n",
       "    </tr>\n",
       "    <tr>\n",
       "      <th>20983</th>\n",
       "      <td>-0.194848</td>\n",
       "    </tr>\n",
       "    <tr>\n",
       "      <th>20984</th>\n",
       "      <td>-0.202878</td>\n",
       "    </tr>\n",
       "    <tr>\n",
       "      <th>20985</th>\n",
       "      <td>-0.210907</td>\n",
       "    </tr>\n",
       "    <tr>\n",
       "      <th>20986</th>\n",
       "      <td>-0.226965</td>\n",
       "    </tr>\n",
       "    <tr>\n",
       "      <th>20987</th>\n",
       "      <td>-0.202878</td>\n",
       "    </tr>\n",
       "    <tr>\n",
       "      <th>20988</th>\n",
       "      <td>-0.218936</td>\n",
       "    </tr>\n",
       "    <tr>\n",
       "      <th>20989</th>\n",
       "      <td>0.005880</td>\n",
       "    </tr>\n",
       "    <tr>\n",
       "      <th>20990</th>\n",
       "      <td>-0.210907</td>\n",
       "    </tr>\n",
       "    <tr>\n",
       "      <th>20991</th>\n",
       "      <td>-0.218936</td>\n",
       "    </tr>\n",
       "    <tr>\n",
       "      <th>20992</th>\n",
       "      <td>-0.226965</td>\n",
       "    </tr>\n",
       "    <tr>\n",
       "      <th>20993</th>\n",
       "      <td>-0.210907</td>\n",
       "    </tr>\n",
       "    <tr>\n",
       "      <th>20994</th>\n",
       "      <td>-0.226965</td>\n",
       "    </tr>\n",
       "    <tr>\n",
       "      <th>20995</th>\n",
       "      <td>-0.226965</td>\n",
       "    </tr>\n",
       "    <tr>\n",
       "      <th>20996</th>\n",
       "      <td>-0.226965</td>\n",
       "    </tr>\n",
       "  </tbody>\n",
       "</table>\n",
       "<p>20997 rows × 1 columns</p>\n",
       "</div>"
      ],
      "text/plain": [
       "       -9.849901330665331023e-02\n",
       "0                      -0.202878\n",
       "1                      -0.218936\n",
       "2                       1.274480\n",
       "3                      -0.226965\n",
       "4                      -0.218936\n",
       "5                      -0.202878\n",
       "6                      -0.218936\n",
       "7                      -0.226965\n",
       "8                      -0.202878\n",
       "9                      -0.218936\n",
       "10                     -0.074412\n",
       "11                     -0.210907\n",
       "12                     -0.226965\n",
       "13                     -0.226965\n",
       "14                     -0.210907\n",
       "15                     -0.226965\n",
       "16                     -0.226965\n",
       "17                     -0.226965\n",
       "18                     -0.226965\n",
       "19                     -0.226965\n",
       "20                     -0.162732\n",
       "21                     -0.202878\n",
       "22                     -0.234994\n",
       "23                      4.582476\n",
       "24                     -0.226965\n",
       "25                     -0.210907\n",
       "26                     -0.218936\n",
       "27                     -0.210907\n",
       "28                     -0.226965\n",
       "29                     -0.218936\n",
       "...                          ...\n",
       "20967                  -0.202878\n",
       "20968                   0.174491\n",
       "20969                  -0.210907\n",
       "20970                  -0.218936\n",
       "20971                  -0.226965\n",
       "20972                  -0.202878\n",
       "20973                  -0.226965\n",
       "20974                  -0.218936\n",
       "20975                  -0.226965\n",
       "20976                  -0.234994\n",
       "20977                  -0.226965\n",
       "20978                  -0.002150\n",
       "20979                  -0.218936\n",
       "20980                  -0.218936\n",
       "20981                   6.710192\n",
       "20982                  -0.194848\n",
       "20983                  -0.194848\n",
       "20984                  -0.202878\n",
       "20985                  -0.210907\n",
       "20986                  -0.226965\n",
       "20987                  -0.202878\n",
       "20988                  -0.218936\n",
       "20989                   0.005880\n",
       "20990                  -0.210907\n",
       "20991                  -0.218936\n",
       "20992                  -0.226965\n",
       "20993                  -0.210907\n",
       "20994                  -0.226965\n",
       "20995                  -0.226965\n",
       "20996                  -0.226965\n",
       "\n",
       "[20997 rows x 1 columns]"
      ]
     },
     "execution_count": 161,
     "metadata": {},
     "output_type": "execute_result"
    }
   ],
   "source": [
    "#Imputation Putting the mean values in the missing column\n",
    "from sklearn.preprocessing import Imputer\n",
    "a=pd.read_csv(\"C:/Users/ssssa/Desktop/Encoded.csv\")\n",
    "a.tail()\n",
    "a"
   ]
  },
  {
   "cell_type": "code",
   "execution_count": 160,
   "metadata": {
    "collapsed": false
   },
   "outputs": [
    {
     "data": {
      "text/plain": [
       "Imputer(axis=0, copy=True, missing_values='NaN', strategy='mean', verbose=0)"
      ]
     },
     "execution_count": 160,
     "metadata": {},
     "output_type": "execute_result"
    }
   ],
   "source": [
    "imp = Imputer(missing_values='NaN', strategy='mean', axis=0)\n",
    "imp.fit(a)\n",
    "imp"
   ]
  },
  {
   "cell_type": "code",
   "execution_count": 47,
   "metadata": {
    "collapsed": true
   },
   "outputs": [],
   "source": [
    "#Min Max normalization\n",
    "min_max_scaler = preprocessing.MaxAbsScaler()\n"
   ]
  },
  {
   "cell_type": "code",
   "execution_count": 48,
   "metadata": {
    "collapsed": false
   },
   "outputs": [],
   "source": [
    "X_train_minmax = min_max_scaler.fit_transform(a)\n"
   ]
  },
  {
   "cell_type": "code",
   "execution_count": 50,
   "metadata": {
    "collapsed": true
   },
   "outputs": [],
   "source": [
    "b= np.asarray(df_std)\n",
    "np.savetxt(\"C:/Users/ssssa/Desktop/German_Encoded_Normalized.csv\",b, delimiter=\",\")"
   ]
  },
  {
   "cell_type": "code",
   "execution_count": 204,
   "metadata": {
    "collapsed": true
   },
   "outputs": [],
   "source": [
    "# Principal Component Analysis on  Normalized\n",
    "\n",
    "a=pd.read_csv(\"C:/Users/ssssa/Desktop/Graman_credit/Normalized/german_N.csv\")\n",
    "from sklearn.decomposition import PCA"
   ]
  },
  {
   "cell_type": "code",
   "execution_count": 164,
   "metadata": {
    "collapsed": true
   },
   "outputs": [],
   "source": [
    "pca = PCA().fit(train)\n",
    "X_train = pca.transform(train)\n"
   ]
  },
  {
   "cell_type": "code",
   "execution_count": 205,
   "metadata": {
    "collapsed": false
   },
   "outputs": [
    {
     "name": "stdout",
     "output_type": "stream",
     "text": [
      "Covariance matrix \n",
      "                            8.423030712787538121e-02  \\\n",
      "8.423030712787538121e-02                    0.001086   \n",
      "8.423030712787538121e-02.1                  0.000945   \n",
      "2.644831643815286903e-01                    0.000073   \n",
      "3.369212285115015248e-01                    0.000492   \n",
      "0.000000000000000000e+00                   -0.000467   \n",
      "5.668699669706013244e-01                   -0.000262   \n",
      "8.423030712787538121e-02.2                  0.000473   \n",
      "2.526909213836261436e-01                    0.000195   \n",
      "1.684606142557507624e-01                   -0.000297   \n",
      "2.526909213836261436e-01.1                  0.000134   \n",
      "8.423030712787538121e-02.3                  0.000064   \n",
      "1.684606142557507624e-01.1                 -0.000084   \n",
      "8.423030712787538121e-02.4                 -0.000425   \n",
      "2.636408613102499410e-01                    0.000073   \n",
      "2.526909213836261436e-01.2                  0.000204   \n",
      "8.423030712787538121e-02.5                  0.000011   \n",
      "1.684606142557507624e-01.2                  0.000018   \n",
      "2.526909213836261436e-01.3                 -0.000073   \n",
      "1.684606142557507624e-01.3                  0.000008   \n",
      "8.423030712787538121e-02.6                  0.000008   \n",
      "8.423030712787538121e-02.7                  0.000055   \n",
      "\n",
      "                            8.423030712787538121e-02.1  \\\n",
      "8.423030712787538121e-02                      0.000945   \n",
      "8.423030712787538121e-02.1                    0.007500   \n",
      "2.644831643815286903e-01                     -0.000205   \n",
      "3.369212285115015248e-01                      0.000939   \n",
      "0.000000000000000000e+00                     -0.001273   \n",
      "5.668699669706013244e-01                     -0.000991   \n",
      "8.423030712787538121e-02.2                    0.001462   \n",
      "2.526909213836261436e-01                      0.000094   \n",
      "1.684606142557507624e-01                     -0.000617   \n",
      "2.526909213836261436e-01.1                   -0.000074   \n",
      "8.423030712787538121e-02.3                   -0.000407   \n",
      "1.684606142557507624e-01.1                   -0.000766   \n",
      "8.423030712787538121e-02.4                   -0.000674   \n",
      "2.636408613102499410e-01                     -0.000204   \n",
      "2.526909213836261436e-01.2                    0.000138   \n",
      "8.423030712787538121e-02.5                   -0.000156   \n",
      "1.684606142557507624e-01.2                    0.000071   \n",
      "2.526909213836261436e-01.3                   -0.000144   \n",
      "1.684606142557507624e-01.3                   -0.000108   \n",
      "8.423030712787538121e-02.6                   -0.000021   \n",
      "8.423030712787538121e-02.7                   -0.000079   \n",
      "\n",
      "                            2.644831643815286903e-01  \\\n",
      "8.423030712787538121e-02                    0.000073   \n",
      "8.423030712787538121e-02.1                 -0.000205   \n",
      "2.644831643815286903e-01                    0.000907   \n",
      "3.369212285115015248e-01                    0.000015   \n",
      "0.000000000000000000e+00                   -0.002116   \n",
      "5.668699669706013244e-01                    0.000452   \n",
      "8.423030712787538121e-02.2                 -0.000458   \n",
      "2.526909213836261436e-01                   -0.000293   \n",
      "1.684606142557507624e-01                   -0.000054   \n",
      "2.526909213836261436e-01.1                  0.000223   \n",
      "8.423030712787538121e-02.3                  0.000212   \n",
      "1.684606142557507624e-01.1                 -0.000045   \n",
      "8.423030712787538121e-02.4                 -0.000166   \n",
      "2.636408613102499410e-01                    0.000908   \n",
      "2.526909213836261436e-01.2                  0.000386   \n",
      "8.423030712787538121e-02.5                  0.000154   \n",
      "1.684606142557507624e-01.2                 -0.000013   \n",
      "2.526909213836261436e-01.3                  0.000123   \n",
      "1.684606142557507624e-01.3                  0.000167   \n",
      "8.423030712787538121e-02.6                 -0.000008   \n",
      "8.423030712787538121e-02.7                  0.000195   \n",
      "\n",
      "                            3.369212285115015248e-01  \\\n",
      "8.423030712787538121e-02                    0.000492   \n",
      "8.423030712787538121e-02.1                  0.000939   \n",
      "2.644831643815286903e-01                    0.000015   \n",
      "3.369212285115015248e-01                    0.005573   \n",
      "0.000000000000000000e+00                   -0.002764   \n",
      "5.668699669706013244e-01                   -0.000758   \n",
      "8.423030712787538121e-02.2                 -0.000309   \n",
      "2.526909213836261436e-01                    0.000419   \n",
      "1.684606142557507624e-01                   -0.000066   \n",
      "2.526909213836261436e-01.1                  0.000064   \n",
      "8.423030712787538121e-02.3                 -0.000057   \n",
      "1.684606142557507624e-01.1                  0.000070   \n",
      "8.423030712787538121e-02.4                 -0.000586   \n",
      "2.636408613102499410e-01                    0.000015   \n",
      "2.526909213836261436e-01.2                  0.000626   \n",
      "8.423030712787538121e-02.5                  0.000098   \n",
      "1.684606142557507624e-01.2                  0.001210   \n",
      "2.526909213836261436e-01.3                 -0.000120   \n",
      "1.684606142557507624e-01.3                  0.000015   \n",
      "8.423030712787538121e-02.6                  0.000012   \n",
      "8.423030712787538121e-02.7                  0.000074   \n",
      "\n",
      "                            0.000000000000000000e+00  \\\n",
      "8.423030712787538121e-02                   -0.000467   \n",
      "8.423030712787538121e-02.1                 -0.001273   \n",
      "2.644831643815286903e-01                   -0.002116   \n",
      "3.369212285115015248e-01                   -0.002764   \n",
      "0.000000000000000000e+00                    0.029247   \n",
      "5.668699669706013244e-01                   -0.004176   \n",
      "8.423030712787538121e-02.2                 -0.002148   \n",
      "2.526909213836261436e-01                   -0.002101   \n",
      "1.684606142557507624e-01                   -0.001162   \n",
      "2.526909213836261436e-01.1                 -0.001666   \n",
      "8.423030712787538121e-02.3                 -0.000699   \n",
      "1.684606142557507624e-01.1                 -0.002523   \n",
      "8.423030712787538121e-02.4                 -0.001607   \n",
      "2.636408613102499410e-01                   -0.002118   \n",
      "2.526909213836261436e-01.2                 -0.002271   \n",
      "8.423030712787538121e-02.5                 -0.001175   \n",
      "1.684606142557507624e-01.2                 -0.000666   \n",
      "2.526909213836261436e-01.3                 -0.001759   \n",
      "1.684606142557507624e-01.3                 -0.000900   \n",
      "8.423030712787538121e-02.6                 -0.000545   \n",
      "8.423030712787538121e-02.7                 -0.000879   \n",
      "\n",
      "                            5.668699669706013244e-01  \\\n",
      "8.423030712787538121e-02                   -0.000262   \n",
      "8.423030712787538121e-02.1                 -0.000991   \n",
      "2.644831643815286903e-01                    0.000452   \n",
      "3.369212285115015248e-01                   -0.000758   \n",
      "0.000000000000000000e+00                   -0.004176   \n",
      "5.668699669706013244e-01                    0.003771   \n",
      "8.423030712787538121e-02.2                 -0.001512   \n",
      "2.526909213836261436e-01                   -0.001456   \n",
      "1.684606142557507624e-01                   -0.000549   \n",
      "2.526909213836261436e-01.1                 -0.000093   \n",
      "8.423030712787538121e-02.3                  0.000235   \n",
      "1.684606142557507624e-01.1                 -0.000776   \n",
      "8.423030712787538121e-02.4                 -0.000205   \n",
      "2.636408613102499410e-01                    0.000453   \n",
      "2.526909213836261436e-01.2                  0.000419   \n",
      "8.423030712787538121e-02.5                 -0.000062   \n",
      "1.684606142557507624e-01.2                 -0.000289   \n",
      "2.526909213836261436e-01.3                  0.000090   \n",
      "1.684606142557507624e-01.3                  0.000053   \n",
      "8.423030712787538121e-02.6                 -0.000220   \n",
      "8.423030712787538121e-02.7                  0.000183   \n",
      "\n",
      "                            8.423030712787538121e-02.2  \\\n",
      "8.423030712787538121e-02                      0.000473   \n",
      "8.423030712787538121e-02.1                    0.001462   \n",
      "2.644831643815286903e-01                     -0.000458   \n",
      "3.369212285115015248e-01                     -0.000309   \n",
      "0.000000000000000000e+00                     -0.002148   \n",
      "5.668699669706013244e-01                     -0.001512   \n",
      "8.423030712787538121e-02.2                    0.011175   \n",
      "2.526909213836261436e-01                      0.000108   \n",
      "1.684606142557507624e-01                     -0.000604   \n",
      "2.526909213836261436e-01.1                   -0.000428   \n",
      "8.423030712787538121e-02.3                   -0.000527   \n",
      "1.684606142557507624e-01.1                    0.000062   \n",
      "8.423030712787538121e-02.4                   -0.000406   \n",
      "2.636408613102499410e-01                     -0.000457   \n",
      "2.526909213836261436e-01.2                   -0.000386   \n",
      "8.423030712787538121e-02.5                   -0.000376   \n",
      "1.684606142557507624e-01.2                   -0.000419   \n",
      "2.526909213836261436e-01.3                   -0.000497   \n",
      "1.684606142557507624e-01.3                   -0.000116   \n",
      "8.423030712787538121e-02.6                    0.000032   \n",
      "8.423030712787538121e-02.7                   -0.000115   \n",
      "\n",
      "                            2.526909213836261436e-01  \\\n",
      "8.423030712787538121e-02                    0.000195   \n",
      "8.423030712787538121e-02.1                  0.000094   \n",
      "2.644831643815286903e-01                   -0.000293   \n",
      "3.369212285115015248e-01                    0.000419   \n",
      "0.000000000000000000e+00                   -0.002101   \n",
      "5.668699669706013244e-01                   -0.001456   \n",
      "8.423030712787538121e-02.2                  0.000108   \n",
      "2.526909213836261436e-01                    0.006376   \n",
      "1.684606142557507624e-01                    0.000211   \n",
      "2.526909213836261436e-01.1                  0.000169   \n",
      "8.423030712787538121e-02.3                 -0.000015   \n",
      "1.684606142557507624e-01.1                  0.000975   \n",
      "8.423030712787538121e-02.4                 -0.000020   \n",
      "2.636408613102499410e-01                   -0.000293   \n",
      "2.526909213836261436e-01.2                 -0.000251   \n",
      "8.423030712787538121e-02.5                  0.000059   \n",
      "1.684606142557507624e-01.2                  0.000142   \n",
      "2.526909213836261436e-01.3                  0.000039   \n",
      "1.684606142557507624e-01.3                  0.000125   \n",
      "8.423030712787538121e-02.6                 -0.000075   \n",
      "8.423030712787538121e-02.7                 -0.000064   \n",
      "\n",
      "                            1.684606142557507624e-01  \\\n",
      "8.423030712787538121e-02                   -0.000297   \n",
      "8.423030712787538121e-02.1                 -0.000617   \n",
      "2.644831643815286903e-01                   -0.000054   \n",
      "3.369212285115015248e-01                   -0.000066   \n",
      "0.000000000000000000e+00                   -0.001162   \n",
      "5.668699669706013244e-01                   -0.000549   \n",
      "8.423030712787538121e-02.2                 -0.000604   \n",
      "2.526909213836261436e-01                    0.000211   \n",
      "1.684606142557507624e-01                    0.006197   \n",
      "2.526909213836261436e-01.1                  0.000351   \n",
      "8.423030712787538121e-02.3                  0.000022   \n",
      "1.684606142557507624e-01.1                 -0.000184   \n",
      "8.423030712787538121e-02.4                 -0.000067   \n",
      "2.636408613102499410e-01                   -0.000055   \n",
      "2.526909213836261436e-01.2                 -0.000019   \n",
      "8.423030712787538121e-02.5                  0.000148   \n",
      "1.684606142557507624e-01.2                 -0.000112   \n",
      "2.526909213836261436e-01.3                  0.000185   \n",
      "1.684606142557507624e-01.3                 -0.000192   \n",
      "8.423030712787538121e-02.6                 -0.000136   \n",
      "8.423030712787538121e-02.7                 -0.000079   \n",
      "\n",
      "                            2.526909213836261436e-01.1  \\\n",
      "8.423030712787538121e-02                      0.000134   \n",
      "8.423030712787538121e-02.1                   -0.000074   \n",
      "2.644831643815286903e-01                      0.000223   \n",
      "3.369212285115015248e-01                      0.000064   \n",
      "0.000000000000000000e+00                     -0.001666   \n",
      "5.668699669706013244e-01                     -0.000093   \n",
      "8.423030712787538121e-02.2                   -0.000428   \n",
      "2.526909213836261436e-01                      0.000169   \n",
      "1.684606142557507624e-01                      0.000351   \n",
      "2.526909213836261436e-01.1                    0.002666   \n",
      "8.423030712787538121e-02.3                    0.000235   \n",
      "1.684606142557507624e-01.1                   -0.000322   \n",
      "8.423030712787538121e-02.4                   -0.000255   \n",
      "2.636408613102499410e-01                      0.000222   \n",
      "2.526909213836261436e-01.2                    0.000082   \n",
      "8.423030712787538121e-02.5                    0.000195   \n",
      "1.684606142557507624e-01.2                    0.000062   \n",
      "2.526909213836261436e-01.3                   -0.000020   \n",
      "1.684606142557507624e-01.3                    0.000236   \n",
      "8.423030712787538121e-02.6                   -0.000019   \n",
      "8.423030712787538121e-02.7                    0.000152   \n",
      "\n",
      "                                       ...              \\\n",
      "8.423030712787538121e-02               ...               \n",
      "8.423030712787538121e-02.1             ...               \n",
      "2.644831643815286903e-01               ...               \n",
      "3.369212285115015248e-01               ...               \n",
      "0.000000000000000000e+00               ...               \n",
      "5.668699669706013244e-01               ...               \n",
      "8.423030712787538121e-02.2             ...               \n",
      "2.526909213836261436e-01               ...               \n",
      "1.684606142557507624e-01               ...               \n",
      "2.526909213836261436e-01.1             ...               \n",
      "8.423030712787538121e-02.3             ...               \n",
      "1.684606142557507624e-01.1             ...               \n",
      "8.423030712787538121e-02.4             ...               \n",
      "2.636408613102499410e-01               ...               \n",
      "2.526909213836261436e-01.2             ...               \n",
      "8.423030712787538121e-02.5             ...               \n",
      "1.684606142557507624e-01.2             ...               \n",
      "2.526909213836261436e-01.3             ...               \n",
      "1.684606142557507624e-01.3             ...               \n",
      "8.423030712787538121e-02.6             ...               \n",
      "8.423030712787538121e-02.7             ...               \n",
      "\n",
      "                            1.684606142557507624e-01.1  \\\n",
      "8.423030712787538121e-02                     -0.000084   \n",
      "8.423030712787538121e-02.1                   -0.000766   \n",
      "2.644831643815286903e-01                     -0.000045   \n",
      "3.369212285115015248e-01                      0.000070   \n",
      "0.000000000000000000e+00                     -0.002523   \n",
      "5.668699669706013244e-01                     -0.000776   \n",
      "8.423030712787538121e-02.2                    0.000062   \n",
      "2.526909213836261436e-01                      0.000975   \n",
      "1.684606142557507624e-01                     -0.000184   \n",
      "2.526909213836261436e-01.1                   -0.000322   \n",
      "8.423030712787538121e-02.3                   -0.000042   \n",
      "1.684606142557507624e-01.1                    0.005885   \n",
      "8.423030712787538121e-02.4                    0.000465   \n",
      "2.636408613102499410e-01                     -0.000046   \n",
      "2.526909213836261436e-01.2                    0.000017   \n",
      "8.423030712787538121e-02.5                   -0.000207   \n",
      "1.684606142557507624e-01.2                    0.000104   \n",
      "2.526909213836261436e-01.3                   -0.000173   \n",
      "1.684606142557507624e-01.3                    0.000043   \n",
      "8.423030712787538121e-02.6                    0.000109   \n",
      "8.423030712787538121e-02.7                   -0.000033   \n",
      "\n",
      "                            8.423030712787538121e-02.4  \\\n",
      "8.423030712787538121e-02                     -0.000425   \n",
      "8.423030712787538121e-02.1                   -0.000674   \n",
      "2.644831643815286903e-01                     -0.000166   \n",
      "3.369212285115015248e-01                     -0.000586   \n",
      "0.000000000000000000e+00                     -0.001607   \n",
      "5.668699669706013244e-01                     -0.000205   \n",
      "8.423030712787538121e-02.2                   -0.000406   \n",
      "2.526909213836261436e-01                     -0.000020   \n",
      "1.684606142557507624e-01                     -0.000067   \n",
      "2.526909213836261436e-01.1                   -0.000255   \n",
      "8.423030712787538121e-02.3                   -0.000399   \n",
      "1.684606142557507624e-01.1                    0.000465   \n",
      "8.423030712787538121e-02.4                    0.005210   \n",
      "2.636408613102499410e-01                     -0.000166   \n",
      "2.526909213836261436e-01.2                   -0.000529   \n",
      "8.423030712787538121e-02.5                    0.000745   \n",
      "1.684606142557507624e-01.2                   -0.000190   \n",
      "2.526909213836261436e-01.3                    0.000753   \n",
      "1.684606142557507624e-01.3                   -0.000051   \n",
      "8.423030712787538121e-02.6                    0.000355   \n",
      "8.423030712787538121e-02.7                   -0.000146   \n",
      "\n",
      "                            2.636408613102499410e-01  \\\n",
      "8.423030712787538121e-02                    0.000073   \n",
      "8.423030712787538121e-02.1                 -0.000204   \n",
      "2.644831643815286903e-01                    0.000908   \n",
      "3.369212285115015248e-01                    0.000015   \n",
      "0.000000000000000000e+00                   -0.002118   \n",
      "5.668699669706013244e-01                    0.000453   \n",
      "8.423030712787538121e-02.2                 -0.000457   \n",
      "2.526909213836261436e-01                   -0.000293   \n",
      "1.684606142557507624e-01                   -0.000055   \n",
      "2.526909213836261436e-01.1                  0.000222   \n",
      "8.423030712787538121e-02.3                  0.000212   \n",
      "1.684606142557507624e-01.1                 -0.000046   \n",
      "8.423030712787538121e-02.4                 -0.000166   \n",
      "2.636408613102499410e-01                    0.000909   \n",
      "2.526909213836261436e-01.2                  0.000386   \n",
      "8.423030712787538121e-02.5                  0.000154   \n",
      "1.684606142557507624e-01.2                 -0.000013   \n",
      "2.526909213836261436e-01.3                  0.000123   \n",
      "1.684606142557507624e-01.3                  0.000167   \n",
      "8.423030712787538121e-02.6                 -0.000008   \n",
      "8.423030712787538121e-02.7                  0.000195   \n",
      "\n",
      "                            2.526909213836261436e-01.2  \\\n",
      "8.423030712787538121e-02                      0.000204   \n",
      "8.423030712787538121e-02.1                    0.000138   \n",
      "2.644831643815286903e-01                      0.000386   \n",
      "3.369212285115015248e-01                      0.000626   \n",
      "0.000000000000000000e+00                     -0.002271   \n",
      "5.668699669706013244e-01                      0.000419   \n",
      "8.423030712787538121e-02.2                   -0.000386   \n",
      "2.526909213836261436e-01                     -0.000251   \n",
      "1.684606142557507624e-01                     -0.000019   \n",
      "2.526909213836261436e-01.1                    0.000082   \n",
      "8.423030712787538121e-02.3                    0.000118   \n",
      "1.684606142557507624e-01.1                    0.000017   \n",
      "8.423030712787538121e-02.4                   -0.000529   \n",
      "2.636408613102499410e-01                      0.000386   \n",
      "2.526909213836261436e-01.2                    0.002879   \n",
      "8.423030712787538121e-02.5                   -0.000101   \n",
      "1.684606142557507624e-01.2                   -0.000126   \n",
      "2.526909213836261436e-01.3                    0.000166   \n",
      "1.684606142557507624e-01.3                    0.000022   \n",
      "8.423030712787538121e-02.6                   -0.000027   \n",
      "8.423030712787538121e-02.7                    0.000153   \n",
      "\n",
      "                            8.423030712787538121e-02.5  \\\n",
      "8.423030712787538121e-02                      0.000011   \n",
      "8.423030712787538121e-02.1                   -0.000156   \n",
      "2.644831643815286903e-01                      0.000154   \n",
      "3.369212285115015248e-01                      0.000098   \n",
      "0.000000000000000000e+00                     -0.001175   \n",
      "5.668699669706013244e-01                     -0.000062   \n",
      "8.423030712787538121e-02.2                   -0.000376   \n",
      "2.526909213836261436e-01                      0.000059   \n",
      "1.684606142557507624e-01                      0.000148   \n",
      "2.526909213836261436e-01.1                    0.000195   \n",
      "8.423030712787538121e-02.3                    0.000002   \n",
      "1.684606142557507624e-01.1                   -0.000207   \n",
      "8.423030712787538121e-02.4                    0.000745   \n",
      "2.636408613102499410e-01                      0.000154   \n",
      "2.526909213836261436e-01.2                   -0.000101   \n",
      "8.423030712787538121e-02.5                    0.001386   \n",
      "1.684606142557507624e-01.2                    0.000001   \n",
      "2.526909213836261436e-01.3                    0.000162   \n",
      "1.684606142557507624e-01.3                    0.000136   \n",
      "8.423030712787538121e-02.6                    0.000075   \n",
      "8.423030712787538121e-02.7                    0.000014   \n",
      "\n",
      "                            1.684606142557507624e-01.2  \\\n",
      "8.423030712787538121e-02                      0.000018   \n",
      "8.423030712787538121e-02.1                    0.000071   \n",
      "2.644831643815286903e-01                     -0.000013   \n",
      "3.369212285115015248e-01                      0.001210   \n",
      "0.000000000000000000e+00                     -0.000666   \n",
      "5.668699669706013244e-01                     -0.000289   \n",
      "8.423030712787538121e-02.2                   -0.000419   \n",
      "2.526909213836261436e-01                      0.000142   \n",
      "1.684606142557507624e-01                     -0.000112   \n",
      "2.526909213836261436e-01.1                    0.000062   \n",
      "8.423030712787538121e-02.3                   -0.000008   \n",
      "1.684606142557507624e-01.1                    0.000104   \n",
      "8.423030712787538121e-02.4                   -0.000190   \n",
      "2.636408613102499410e-01                     -0.000013   \n",
      "2.526909213836261436e-01.2                   -0.000126   \n",
      "8.423030712787538121e-02.5                    0.000001   \n",
      "1.684606142557507624e-01.2                    0.001541   \n",
      "2.526909213836261436e-01.3                   -0.000157   \n",
      "1.684606142557507624e-01.3                    0.000095   \n",
      "8.423030712787538121e-02.6                    0.000012   \n",
      "8.423030712787538121e-02.7                    0.000007   \n",
      "\n",
      "                            2.526909213836261436e-01.3  \\\n",
      "8.423030712787538121e-02                     -0.000073   \n",
      "8.423030712787538121e-02.1                   -0.000144   \n",
      "2.644831643815286903e-01                      0.000123   \n",
      "3.369212285115015248e-01                     -0.000120   \n",
      "0.000000000000000000e+00                     -0.001759   \n",
      "5.668699669706013244e-01                      0.000090   \n",
      "8.423030712787538121e-02.2                   -0.000497   \n",
      "2.526909213836261436e-01                      0.000039   \n",
      "1.684606142557507624e-01                      0.000185   \n",
      "2.526909213836261436e-01.1                   -0.000020   \n",
      "8.423030712787538121e-02.3                    0.000029   \n",
      "1.684606142557507624e-01.1                   -0.000173   \n",
      "8.423030712787538121e-02.4                    0.000753   \n",
      "2.636408613102499410e-01                      0.000123   \n",
      "2.526909213836261436e-01.2                    0.000166   \n",
      "8.423030712787538121e-02.5                    0.000162   \n",
      "1.684606142557507624e-01.2                   -0.000157   \n",
      "2.526909213836261436e-01.3                    0.002208   \n",
      "1.684606142557507624e-01.3                   -0.000068   \n",
      "8.423030712787538121e-02.6                    0.000535   \n",
      "8.423030712787538121e-02.7                    0.000030   \n",
      "\n",
      "                            1.684606142557507624e-01.3  \\\n",
      "8.423030712787538121e-02                      0.000008   \n",
      "8.423030712787538121e-02.1                   -0.000108   \n",
      "2.644831643815286903e-01                      0.000167   \n",
      "3.369212285115015248e-01                      0.000015   \n",
      "0.000000000000000000e+00                     -0.000900   \n",
      "5.668699669706013244e-01                      0.000053   \n",
      "8.423030712787538121e-02.2                   -0.000116   \n",
      "2.526909213836261436e-01                      0.000125   \n",
      "1.684606142557507624e-01                     -0.000192   \n",
      "2.526909213836261436e-01.1                    0.000236   \n",
      "8.423030712787538121e-02.3                    0.000101   \n",
      "1.684606142557507624e-01.1                    0.000043   \n",
      "8.423030712787538121e-02.4                   -0.000051   \n",
      "2.636408613102499410e-01                      0.000167   \n",
      "2.526909213836261436e-01.2                    0.000022   \n",
      "8.423030712787538121e-02.5                    0.000136   \n",
      "1.684606142557507624e-01.2                    0.000095   \n",
      "2.526909213836261436e-01.3                   -0.000068   \n",
      "1.684606142557507624e-01.3                    0.000705   \n",
      "8.423030712787538121e-02.6                   -0.000020   \n",
      "8.423030712787538121e-02.7                    0.000090   \n",
      "\n",
      "                            8.423030712787538121e-02.6  \\\n",
      "8.423030712787538121e-02                      0.000008   \n",
      "8.423030712787538121e-02.1                   -0.000021   \n",
      "2.644831643815286903e-01                     -0.000008   \n",
      "3.369212285115015248e-01                      0.000012   \n",
      "0.000000000000000000e+00                     -0.000545   \n",
      "5.668699669706013244e-01                     -0.000220   \n",
      "8.423030712787538121e-02.2                    0.000032   \n",
      "2.526909213836261436e-01                     -0.000075   \n",
      "1.684606142557507624e-01                     -0.000136   \n",
      "2.526909213836261436e-01.1                   -0.000019   \n",
      "8.423030712787538121e-02.3                   -0.000067   \n",
      "1.684606142557507624e-01.1                    0.000109   \n",
      "8.423030712787538121e-02.4                    0.000355   \n",
      "2.636408613102499410e-01                     -0.000008   \n",
      "2.526909213836261436e-01.2                   -0.000027   \n",
      "8.423030712787538121e-02.5                    0.000075   \n",
      "1.684606142557507624e-01.2                    0.000012   \n",
      "2.526909213836261436e-01.3                    0.000535   \n",
      "1.684606142557507624e-01.3                   -0.000020   \n",
      "8.423030712787538121e-02.6                    0.001150   \n",
      "8.423030712787538121e-02.7                   -0.000014   \n",
      "\n",
      "                            8.423030712787538121e-02.7  \n",
      "8.423030712787538121e-02                      0.000055  \n",
      "8.423030712787538121e-02.1                   -0.000079  \n",
      "2.644831643815286903e-01                      0.000195  \n",
      "3.369212285115015248e-01                      0.000074  \n",
      "0.000000000000000000e+00                     -0.000879  \n",
      "5.668699669706013244e-01                      0.000183  \n",
      "8.423030712787538121e-02.2                   -0.000115  \n",
      "2.526909213836261436e-01                     -0.000064  \n",
      "1.684606142557507624e-01                     -0.000079  \n",
      "2.526909213836261436e-01.1                    0.000152  \n",
      "8.423030712787538121e-02.3                    0.000158  \n",
      "1.684606142557507624e-01.1                   -0.000033  \n",
      "8.423030712787538121e-02.4                   -0.000146  \n",
      "2.636408613102499410e-01                      0.000195  \n",
      "2.526909213836261436e-01.2                    0.000153  \n",
      "8.423030712787538121e-02.5                    0.000014  \n",
      "1.684606142557507624e-01.2                    0.000007  \n",
      "2.526909213836261436e-01.3                    0.000030  \n",
      "1.684606142557507624e-01.3                    0.000090  \n",
      "8.423030712787538121e-02.6                   -0.000014  \n",
      "8.423030712787538121e-02.7                    0.000269  \n",
      "\n",
      "[21 rows x 21 columns]\n"
     ]
    }
   ],
   "source": [
    "\n",
    "mean_vec = np.mean(a, axis=0)\n",
    "cov_mat = (a - mean_vec).T.dot((a - mean_vec)) / (a.shape[0]-1)\n",
    "print('Covariance matrix \\n%s' %cov_mat)\n",
    "\n"
   ]
  },
  {
   "cell_type": "code",
   "execution_count": 206,
   "metadata": {
    "collapsed": false
   },
   "outputs": [
    {
     "name": "stdout",
     "output_type": "stream",
     "text": [
      "NumPy covariance matrix: \n",
      "[[  1.08616573e-03   9.45052131e-04   7.30297365e-05   4.92398098e-04\n",
      "   -4.67082239e-04  -2.61989903e-04   4.72631936e-04   1.94855113e-04\n",
      "   -2.96890519e-04   1.33890269e-04   6.39322436e-05  -8.41506966e-05\n",
      "   -4.25348369e-04   7.32786411e-05   2.03864514e-04   1.06825292e-05\n",
      "    1.77272672e-05  -7.30950847e-05   8.27364915e-06   8.36408609e-06\n",
      "    5.46325577e-05]\n",
      " [  9.45052131e-04   7.50034062e-03  -2.04832450e-04   9.39007539e-04\n",
      "   -1.27341609e-03  -9.90612355e-04   1.46167905e-03   9.40401712e-05\n",
      "   -6.17402431e-04  -7.38227829e-05  -4.06817440e-04  -7.66434912e-04\n",
      "   -6.73994898e-04  -2.04393577e-04   1.38490587e-04  -1.55610987e-04\n",
      "    7.07689358e-05  -1.43652624e-04  -1.08403036e-04  -2.14666339e-05\n",
      "   -7.94046722e-05]\n",
      " [  7.30297365e-05  -2.04832450e-04   9.07006562e-04   1.48688523e-05\n",
      "   -2.11641454e-03   4.52368242e-04  -4.57832313e-04  -2.92642420e-04\n",
      "   -5.39195439e-05   2.22727376e-04   2.12489425e-04  -4.54770013e-05\n",
      "   -1.65708647e-04   9.07856885e-04   3.86305781e-04   1.54249569e-04\n",
      "   -1.33421838e-05   1.22872737e-04   1.67212777e-04  -8.08607692e-06\n",
      "    1.94940070e-04]\n",
      " [  4.92398098e-04   9.39007539e-04   1.48688523e-05   5.57336867e-03\n",
      "   -2.76414392e-03  -7.57945054e-04  -3.09111833e-04   4.19134652e-04\n",
      "   -6.61185447e-05   6.37230920e-05  -5.71590410e-05   7.00699739e-05\n",
      "   -5.85687864e-04   1.48939426e-05   6.25981059e-04   9.76279775e-05\n",
      "    1.21009719e-03  -1.20459378e-04   1.46118351e-05   1.18354743e-05\n",
      "    7.35636890e-05]\n",
      " [ -4.67082239e-04  -1.27341609e-03  -2.11641454e-03  -2.76414392e-03\n",
      "    2.92467758e-02  -4.17590634e-03  -2.14812158e-03  -2.10129022e-03\n",
      "   -1.16176899e-03  -1.66643890e-03  -6.98845332e-04  -2.52321583e-03\n",
      "   -1.60695742e-03  -2.11781375e-03  -2.27127467e-03  -1.17511251e-03\n",
      "   -6.66162931e-04  -1.75900684e-03  -9.00396091e-04  -5.45153030e-04\n",
      "   -8.79341849e-04]\n",
      " [ -2.61989903e-04  -9.90612355e-04   4.52368242e-04  -7.57945054e-04\n",
      "   -4.17590634e-03   3.77139845e-03  -1.51224159e-03  -1.45635142e-03\n",
      "   -5.49293626e-04  -9.25199098e-05   2.34942793e-04  -7.76140068e-04\n",
      "   -2.04833601e-04   4.52625535e-04   4.18804174e-04  -6.22202449e-05\n",
      "   -2.88559916e-04   9.01799877e-05   5.26726064e-05  -2.20086867e-04\n",
      "    1.83112672e-04]\n",
      " [  4.72631936e-04   1.46167905e-03  -4.57832313e-04  -3.09111833e-04\n",
      "   -2.14812158e-03  -1.51224159e-03   1.11747571e-02   1.08122472e-04\n",
      "   -6.03973941e-04  -4.28347633e-04  -5.26674626e-04   6.17278708e-05\n",
      "   -4.06223475e-04  -4.57062394e-04  -3.85574672e-04  -3.75685166e-04\n",
      "   -4.18886830e-04  -4.97443773e-04  -1.16447950e-04   3.16573438e-05\n",
      "   -1.14943216e-04]\n",
      " [  1.94855113e-04   9.40401712e-05  -2.92642420e-04   4.19134652e-04\n",
      "   -2.10129022e-03  -1.45635142e-03   1.08122472e-04   6.37608895e-03\n",
      "    2.11182483e-04   1.69281037e-04  -1.45021433e-05   9.75247006e-04\n",
      "   -1.96969101e-05  -2.92522450e-04  -2.51193559e-04   5.90303339e-05\n",
      "    1.42257526e-04   3.85502885e-05   1.25106249e-04  -7.49178339e-05\n",
      "   -6.41381444e-05]\n",
      " [ -2.96890519e-04  -6.17402431e-04  -5.39195439e-05  -6.61185447e-05\n",
      "   -1.16176899e-03  -5.49293626e-04  -6.03973941e-04   2.11182483e-04\n",
      "    6.19731062e-03   3.51317121e-04   2.17815175e-05  -1.83575343e-04\n",
      "   -6.74772300e-05  -5.46124574e-05  -1.93984452e-05   1.48246470e-04\n",
      "   -1.11804532e-04   1.85185727e-04  -1.92108262e-04  -1.35875408e-04\n",
      "   -7.92280186e-05]\n",
      " [  1.33890269e-04  -7.38227829e-05   2.22727376e-04   6.37230920e-05\n",
      "   -1.66643890e-03  -9.25199098e-05  -4.28347633e-04   1.69281037e-04\n",
      "    3.51317121e-04   2.66557651e-03   2.35067671e-04  -3.22428027e-04\n",
      "   -2.54526008e-04   2.22432354e-04   8.17032959e-05   1.95293159e-04\n",
      "    6.19537238e-05  -1.97441809e-05   2.35854084e-04  -1.91488316e-05\n",
      "    1.51728175e-04]\n",
      " [  6.39322436e-05  -4.06817440e-04   2.12489425e-04  -5.71590410e-05\n",
      "   -6.98845332e-04   2.34942793e-04  -5.26674626e-04  -1.45021433e-05\n",
      "    2.17815175e-05   2.35067671e-04   1.34974506e-03  -4.16489209e-05\n",
      "   -3.99282009e-04   2.12306579e-04   1.17851155e-04   2.21278020e-06\n",
      "   -7.54100892e-06   2.89557974e-05   1.01398275e-04  -6.74760085e-05\n",
      "    1.57882807e-04]\n",
      " [ -8.41506966e-05  -7.66434912e-04  -4.54770013e-05   7.00699739e-05\n",
      "   -2.52321583e-03  -7.76140068e-04   6.17278708e-05   9.75247006e-04\n",
      "   -1.83575343e-04  -3.22428027e-04  -4.16489209e-05   5.88464402e-03\n",
      "    4.64805821e-04  -4.60085163e-05   1.65059291e-05  -2.07030033e-04\n",
      "    1.04020092e-04  -1.72802458e-04   4.28009297e-05   1.09129240e-04\n",
      "   -3.26735970e-05]\n",
      " [ -4.25348369e-04  -6.73994898e-04  -1.65708647e-04  -5.85687864e-04\n",
      "   -1.60695742e-03  -2.04833601e-04  -4.06223475e-04  -1.96969101e-05\n",
      "   -6.74772300e-05  -2.54526008e-04  -3.99282009e-04   4.64805821e-04\n",
      "    5.20970002e-03  -1.65853774e-04  -5.28944527e-04   7.45335688e-04\n",
      "   -1.90247939e-04   7.52598789e-04  -5.07183622e-05   3.55007703e-04\n",
      "   -1.46491354e-04]\n",
      " [  7.32786411e-05  -2.04393577e-04   9.07856885e-04   1.48939426e-05\n",
      "   -2.11781375e-03   4.52625535e-04  -4.57062394e-04  -2.92522450e-04\n",
      "   -5.46124574e-05   2.22432354e-04   2.12306579e-04  -4.60085163e-05\n",
      "   -1.65853774e-04   9.08731681e-04   3.86252173e-04   1.54234738e-04\n",
      "   -1.32969915e-05   1.22873545e-04   1.67050637e-04  -8.10411556e-06\n",
      "    1.94932526e-04]\n",
      " [  2.03864514e-04   1.38490587e-04   3.86305781e-04   6.25981059e-04\n",
      "   -2.27127467e-03   4.18804174e-04  -3.85574672e-04  -2.51193559e-04\n",
      "   -1.93984452e-05   8.17032959e-05   1.17851155e-04   1.65059291e-05\n",
      "   -5.28944527e-04   3.86252173e-04   2.87871806e-03  -1.01173017e-04\n",
      "   -1.26034239e-04   1.66396229e-04   2.23096927e-05  -2.74877587e-05\n",
      "    1.52806156e-04]\n",
      " [  1.06825292e-05  -1.55610987e-04   1.54249569e-04   9.76279775e-05\n",
      "   -1.17511251e-03  -6.22202449e-05  -3.75685166e-04   5.90303339e-05\n",
      "    1.48246470e-04   1.95293159e-04   2.21278020e-06  -2.07030033e-04\n",
      "    7.45335688e-04   1.54234738e-04  -1.01173017e-04   1.38632441e-03\n",
      "    1.29433235e-06   1.61929595e-04   1.36264331e-04   7.48547007e-05\n",
      "    1.36847363e-05]\n",
      " [  1.77272672e-05   7.07689358e-05  -1.33421838e-05   1.21009719e-03\n",
      "   -6.66162931e-04  -2.88559916e-04  -4.18886830e-04   1.42257526e-04\n",
      "   -1.11804532e-04   6.19537238e-05  -7.54100892e-06   1.04020092e-04\n",
      "   -1.90247939e-04  -1.32969915e-05  -1.26034239e-04   1.29433235e-06\n",
      "    1.54099264e-03  -1.57157867e-04   9.53438731e-05   1.17479398e-05\n",
      "    7.04743046e-06]\n",
      " [ -7.30950847e-05  -1.43652624e-04   1.22872737e-04  -1.20459378e-04\n",
      "   -1.75900684e-03   9.01799877e-05  -4.97443773e-04   3.85502885e-05\n",
      "    1.85185727e-04  -1.97441809e-05   2.89557974e-05  -1.72802458e-04\n",
      "    7.52598789e-04   1.22873545e-04   1.66396229e-04   1.61929595e-04\n",
      "   -1.57157867e-04   2.20753774e-03  -6.84464248e-05   5.35347552e-04\n",
      "    3.00126117e-05]\n",
      " [  8.27364915e-06  -1.08403036e-04   1.67212777e-04   1.46118351e-05\n",
      "   -9.00396091e-04   5.26726064e-05  -1.16447950e-04   1.25106249e-04\n",
      "   -1.92108262e-04   2.35854084e-04   1.01398275e-04   4.28009297e-05\n",
      "   -5.07183622e-05   1.67050637e-04   2.23096927e-05   1.36264331e-04\n",
      "    9.53438731e-05  -6.84464248e-05   7.05053123e-04  -1.99268938e-05\n",
      "    9.04451840e-05]\n",
      " [  8.36408609e-06  -2.14666339e-05  -8.08607692e-06   1.18354743e-05\n",
      "   -5.45153030e-04  -2.20086867e-04   3.16573438e-05  -7.49178339e-05\n",
      "   -1.35875408e-04  -1.91488316e-05  -6.74760085e-05   1.09129240e-04\n",
      "    3.55007703e-04  -8.10411556e-06  -2.74877587e-05   7.48547007e-05\n",
      "    1.17479398e-05   5.35347552e-04  -1.99268938e-05   1.15025388e-03\n",
      "   -1.44929315e-05]\n",
      " [  5.46325577e-05  -7.94046722e-05   1.94940070e-04   7.35636890e-05\n",
      "   -8.79341849e-04   1.83112672e-04  -1.14943216e-04  -6.41381444e-05\n",
      "   -7.92280186e-05   1.51728175e-04   1.57882807e-04  -3.26735970e-05\n",
      "   -1.46491354e-04   1.94932526e-04   1.52806156e-04   1.36847363e-05\n",
      "    7.04743046e-06   3.00126117e-05   9.04451840e-05  -1.44929315e-05\n",
      "    2.68535791e-04]]\n"
     ]
    }
   ],
   "source": [
    "print('NumPy covariance matrix: \\n%s' %np.cov(a.T))"
   ]
  },
  {
   "cell_type": "code",
   "execution_count": 207,
   "metadata": {
    "collapsed": false
   },
   "outputs": [
    {
     "name": "stdout",
     "output_type": "stream",
     "text": [
      "Eigenvectors \n",
      "[[ -1.81012131e-02  -7.59602685e-02  -1.26455851e-01  -2.01141221e-02\n",
      "    2.15133351e-02   2.70233593e-02   2.24345169e-02  -1.29870315e-02\n",
      "   -8.16219423e-02  -7.46609800e-02   6.12275896e-03   1.01901417e-01\n",
      "   -2.46483337e-01  -7.33405200e-02  -3.81447153e-02   1.46327215e-01\n",
      "   -3.23269383e-02   8.61991783e-01  -3.45828019e-01   8.70828217e-05\n",
      "    1.76761291e-02]\n",
      " [ -4.76301782e-02  -3.56059428e-01  -6.82258594e-01  -4.19272814e-03\n",
      "    5.21516309e-02  -4.71458349e-01   4.45218900e-02  -3.72786366e-01\n",
      "    2.39147563e-02   4.74316568e-02   2.76690157e-02  -7.92893731e-03\n",
      "   -1.38951933e-02   3.77939462e-02   1.46445237e-01  -5.03910901e-02\n",
      "    2.50458838e-02  -8.17125020e-02   5.43299517e-02   1.40594501e-05\n",
      "   -1.00948708e-03]\n",
      " [ -6.93630087e-02   6.68044747e-02  -1.89967487e-02   7.90082446e-02\n",
      "    4.26153367e-03   5.83681044e-02   3.66214638e-02  -2.34986212e-02\n",
      "   -1.29107083e-01  -1.10728235e-01  -1.05136925e-02   4.36825830e-01\n",
      "    4.18771549e-02  -6.44066184e-02   2.04117198e-01  -1.75286025e-01\n",
      "   -5.05426125e-02  -1.66630667e-02   1.12926054e-02   7.07585833e-01\n",
      "   -4.20736665e-01]\n",
      " [ -1.01831536e-01  -3.01857029e-02  -4.28178382e-01  -2.48688506e-01\n",
      "   -7.69466218e-04   3.40440108e-01  -5.41006357e-01   4.34304981e-01\n",
      "    9.74439592e-02   7.35849436e-02   4.06735251e-03  -9.41592537e-02\n",
      "   -2.57201009e-01  -1.03168468e-01   1.45658836e-01  -1.28209265e-02\n",
      "    8.05400296e-03  -1.01999763e-01   1.43167570e-02  -5.81424368e-06\n",
      "   -1.16980246e-01]\n",
      " [  9.58329909e-01  -3.63507414e-02  -1.30032196e-02  -4.69176880e-02\n",
      "    9.09339291e-03   2.11201947e-02  -3.64384592e-02   6.07160030e-03\n",
      "   -2.55446549e-03  -6.14100774e-02   2.85713137e-02  -1.64722545e-02\n",
      "   -4.88466435e-02  -1.91997029e-02   2.44319801e-01  -5.94415024e-02\n",
      "    4.00151684e-02   3.16648459e-02   3.45198601e-02  -5.48084158e-06\n",
      "   -3.71176898e-02]\n",
      " [ -1.29804797e-01   2.27484870e-01   3.07710647e-02   4.15314494e-01\n",
      "    8.08803568e-02   9.15119503e-02   1.89510002e-01  -4.78450802e-02\n",
      "    3.50131044e-01   2.65377501e-01   1.14389459e-01  -3.03478452e-01\n",
      "   -1.43772414e-01  -8.30006508e-02   5.80409180e-01  -1.54053270e-01\n",
      "    5.64403395e-02   1.22948072e-01   1.26412669e-02   2.85793215e-06\n",
      "    4.43063131e-03]\n",
      " [ -8.22005021e-02  -8.73451983e-01   3.44436031e-01   1.62364585e-01\n",
      "   -1.01743389e-01   1.30700653e-01  -4.80125320e-02   1.14343233e-01\n",
      "    2.85953534e-03  -2.86817964e-02   1.46548057e-02  -1.58249646e-02\n",
      "   -2.63476528e-02   1.45987013e-02   1.82463329e-01  -6.08338282e-02\n",
      "    2.09731699e-02   1.05568406e-02   5.22046696e-02   5.53982349e-05\n",
      "   -6.22153881e-03]\n",
      " [ -7.63340855e-02  -6.84287930e-02   3.40850262e-02  -7.01977466e-01\n",
      "    1.01634090e-02  -3.95398474e-02   5.93358669e-01   2.41771209e-01\n",
      "    1.72751038e-01  -2.75488759e-02   7.36168538e-02  -2.83871870e-02\n",
      "   -2.19767199e-02  -1.54858530e-02   1.88018013e-01  -8.26459196e-02\n",
      "    2.73867842e-02   2.36227194e-03  -3.70600027e-03   6.61827588e-05\n",
      "   -5.34933075e-02]\n",
      " [ -3.76243773e-02   1.10345633e-01   1.05066067e-01  -1.75348132e-01\n",
      "   -8.92372514e-01  -1.16212824e-01  -1.92568097e-01  -2.31050123e-01\n",
      "    1.17617241e-01   3.16957864e-02   4.21378578e-02   6.33895744e-03\n",
      "   -1.91407915e-02   1.09583039e-02   1.49528539e-01   2.28891572e-03\n",
      "    2.69513763e-02   4.96050139e-02  -3.49974863e-02  -7.16846976e-05\n",
      "   -2.01267546e-02]\n",
      " [ -5.50194627e-02   5.04895300e-02  -4.88364067e-02  -6.52728358e-03\n",
      "   -1.21951356e-01   3.12819204e-02   1.19454708e-01   4.89106636e-02\n",
      "   -8.38108723e-01   3.62003889e-02   1.19725531e-01  -4.46113203e-01\n",
      "   -3.38955801e-02  -3.50726187e-02   1.39892075e-01  -1.14200916e-01\n",
      "   -7.66571841e-03   4.92852681e-03   4.87109681e-02  -9.05623235e-05\n",
      "   -7.03515566e-02]\n",
      " [ -2.19596706e-02   6.30752433e-02  -5.26135345e-03   2.26182174e-02\n",
      "   -1.82203110e-02   9.95981099e-02   8.13426965e-02  -1.66908056e-02\n",
      "   -1.32151264e-01  -1.95579054e-02  -7.68620644e-02   2.68831260e-01\n",
      "   -5.27167784e-01   6.67437460e-01   1.25263056e-01  -1.09634277e-01\n",
      "   -6.41741091e-02  -1.30813104e-01  -1.54610061e-02  -1.27838702e-04\n",
      "    3.30560074e-01]\n",
      " [ -9.07493606e-02   7.50302236e-03   2.85401745e-01  -4.28507964e-01\n",
      "    3.58630394e-01   1.68256157e-01  -3.23338989e-01  -6.35902592e-01\n",
      "   -5.63456451e-02   2.44042822e-02  -1.96938941e-02  -6.54709106e-02\n",
      "   -7.34096669e-02  -6.12069889e-02   1.83204393e-01  -5.68688816e-02\n",
      "    2.70914231e-02   3.79031268e-02   6.40044065e-02  -7.91889265e-05\n",
      "    1.19948815e-02]\n",
      " [ -5.27372638e-02   8.92402773e-02   2.99764440e-01  -5.21767630e-02\n",
      "    1.91031141e-01  -6.86078779e-01  -3.43990692e-01   3.02288486e-01\n",
      "   -9.07284394e-03  -5.22856074e-02   3.12091666e-01  -2.36039341e-02\n",
      "   -8.05151063e-02   1.77789902e-01   1.35978811e-01  -1.60209620e-02\n",
      "    2.71897133e-02   6.33693587e-02  -3.99257684e-02   4.59583248e-06\n",
      "   -1.25724259e-01]\n",
      " [ -6.94097343e-02   6.67437006e-02  -1.90366645e-02   7.90938715e-02\n",
      "    4.32456369e-03   5.83778303e-02   3.67210264e-02  -2.34256703e-02\n",
      "   -1.29062293e-01  -1.10743770e-01  -1.05634476e-02   4.37323718e-01\n",
      "    4.20258718e-02  -6.45674893e-02   2.04181657e-01  -1.75882644e-01\n",
      "   -5.12029878e-02  -1.64912786e-02   1.12322318e-02  -7.06627151e-01\n",
      "   -4.21424720e-01]\n",
      " [ -7.95177730e-02   4.89962703e-02  -1.19795712e-01   6.65887714e-02\n",
      "   -8.12356585e-03   1.77161542e-01  -1.99451917e-02  -6.23815556e-02\n",
      "    1.07360667e-01  -8.21962486e-01   4.09733399e-01  -1.31096016e-01\n",
      "    1.46469710e-01   7.36327909e-02   9.66482058e-02  -2.53132995e-02\n",
      "   -1.26728436e-06  -1.99800033e-03   3.04577415e-02  -1.02968649e-04\n",
      "    1.63538971e-01]\n",
      " [ -3.82057828e-02   4.73992505e-02   1.92375323e-02  -8.29412072e-03\n",
      "   -1.31061230e-02  -1.29431985e-01  -4.33395028e-02   1.25044295e-01\n",
      "   -1.53620582e-01   1.05847391e-02   4.50387006e-02   3.66884601e-01\n",
      "   -4.16661991e-02  -5.46000437e-01   1.41729612e-01  -1.90985593e-01\n",
      "    4.18500705e-02   5.50214258e-03   2.00753642e-01  -6.86759933e-05\n",
      "    6.34486234e-01]\n",
      " [ -2.26812983e-02   1.91426365e-02  -1.09846048e-01  -9.10192988e-02\n",
      "    2.40198145e-02   1.06650376e-01  -1.44726607e-01   1.23984226e-01\n",
      "   -4.39980319e-02   2.10785365e-01  -6.16899285e-02   8.28321324e-02\n",
      "    6.93683801e-01   4.16924433e-01   1.95105797e-01  -1.68011003e-01\n",
      "    3.02975515e-02   3.10533454e-01   1.32046130e-01   5.23348305e-05\n",
      "    1.93297421e-01]\n",
      " [ -5.79254267e-02   6.75631789e-02   3.60381954e-02   1.51626716e-02\n",
      "   -8.58197787e-03  -1.89488169e-01  -2.32979037e-02   9.33661978e-02\n",
      "    3.14079098e-02  -3.72588670e-01  -7.43053012e-01  -1.89643277e-01\n",
      "   -7.83510032e-02  -4.61150269e-03   1.38580989e-01   3.25710183e-02\n",
      "    9.81296849e-03   1.58232004e-01   4.03900799e-01  -2.75250112e-05\n",
      "   -5.21094807e-02]\n",
      " [ -2.91892840e-02   1.67691598e-02  -1.59320507e-03  -1.04560649e-03\n",
      "    2.67825070e-02   2.73609330e-02   4.23488201e-02   1.97833671e-02\n",
      "   -1.28992350e-01   3.07331031e-02   3.15310643e-02   1.54447455e-01\n",
      "    9.95043225e-02   4.58227697e-04   3.92589705e-01   8.75413608e-01\n",
      "   -6.03878896e-02  -1.18886885e-01   4.22948519e-02  -3.00505333e-04\n",
      "    5.32346884e-02]\n",
      " [ -1.77136673e-02   2.70859336e-04   2.31425963e-02  -7.46508093e-03\n",
      "    3.78775346e-02  -7.48371098e-02  -5.96170158e-02   3.83527224e-02\n",
      "   -5.00635617e-02  -1.40894430e-01  -3.64347064e-01  -6.45905499e-02\n",
      "    1.78968538e-01  -6.79112704e-02   2.35495680e-01  -1.03596106e-01\n",
      "    2.76080724e-02  -2.49812005e-01  -7.99836738e-01  -1.18357749e-05\n",
      "    1.48381278e-01]\n",
      " [ -2.85626966e-02   1.91726486e-02  -1.30257359e-02   2.63621629e-02\n",
      "    4.32990020e-03   4.03708749e-02   2.36005482e-02   1.25589586e-03\n",
      "   -5.76291104e-02  -2.54643712e-02  -5.45902321e-03   7.98654425e-02\n",
      "   -3.73868582e-02   4.84258559e-02  -3.68804279e-02   6.62158399e-02\n",
      "    9.86690742e-01  -3.40844683e-03  -6.74121611e-03  -4.45731154e-04\n",
      "   -4.75769639e-02]]\n"
     ]
    }
   ],
   "source": [
    "cov_mat = np.cov(a.T)\n",
    "eig_vals, eig_vecs = np.linalg.eig(cov_mat)\n",
    "print('Eigenvectors \\n%s' %eig_vecs)"
   ]
  },
  {
   "cell_type": "code",
   "execution_count": 208,
   "metadata": {
    "collapsed": false
   },
   "outputs": [
    {
     "name": "stdout",
     "output_type": "stream",
     "text": [
      "\n",
      "Eigenvalues \n",
      "[  3.17422014e-02   1.24583847e-02   8.28124677e-03   7.98537921e-03\n",
      "   6.38675717e-03   5.74332261e-03   5.05270620e-03   4.74181354e-03\n",
      "   2.78025992e-03   2.68456047e-03   2.10338205e-03   1.60657908e-03\n",
      "   1.22536068e-03   1.17731501e-03   4.69466294e-04   6.05727029e-04\n",
      "   1.92427221e-04   8.15087805e-04   8.93754027e-04   1.14467612e-08\n",
      "   1.04328278e-03]\n"
     ]
    }
   ],
   "source": [
    "print('\\nEigenvalues \\n%s' %eig_vals)"
   ]
  },
  {
   "cell_type": "code",
   "execution_count": 215,
   "metadata": {
    "collapsed": false
   },
   "outputs": [],
   "source": [
    "# Make a list of (eigenvalue, eigenvector) tuples\n"
   ]
  },
  {
   "cell_type": "code",
   "execution_count": null,
   "metadata": {
    "collapsed": true
   },
   "outputs": [],
   "source": [
    "eig_pairs = [(np.abs(eig_vals[i]), eig_vecs[:,i]) for i in range(len(eig_vals))]"
   ]
  },
  {
   "cell_type": "code",
   "execution_count": 211,
   "metadata": {
    "collapsed": true
   },
   "outputs": [],
   "source": [
    "# Sort the (eigenvalue, eigenvector) tuples from high to low\n"
   ]
  },
  {
   "cell_type": "code",
   "execution_count": null,
   "metadata": {
    "collapsed": true
   },
   "outputs": [],
   "source": [
    "eig_pairs.sort(key=lambda x: x[0], reverse=True)"
   ]
  },
  {
   "cell_type": "code",
   "execution_count": 216,
   "metadata": {
    "collapsed": false
   },
   "outputs": [],
   "source": [
    "# Visually confirm that the list is correctly sorted by decreasing eigenvalues\n"
   ]
  },
  {
   "cell_type": "code",
   "execution_count": 217,
   "metadata": {
    "collapsed": false
   },
   "outputs": [
    {
     "name": "stdout",
     "output_type": "stream",
     "text": [
      "Eigenvalues in descending order:\n",
      "0.0317422014429\n",
      "0.0124583847497\n",
      "0.00828124676968\n",
      "0.0079853792112\n",
      "0.00638675716624\n",
      "0.00574332261107\n",
      "0.00505270619729\n",
      "0.00474181354142\n",
      "0.00278025992045\n",
      "0.0026845604663\n",
      "0.00210338205158\n",
      "0.00160657908029\n",
      "0.00122536068384\n",
      "0.00117731501054\n",
      "0.00104328277896\n",
      "0.000893754026506\n",
      "0.000815087805445\n",
      "0.000605727029293\n",
      "0.000469466294146\n",
      "0.000192427221405\n",
      "1.1446761154e-08\n"
     ]
    }
   ],
   "source": [
    "print('Eigenvalues in descending order:')\n",
    "for i in eig_pairs:\n",
    "    print(i[0])"
   ]
  },
  {
   "cell_type": "code",
   "execution_count": 213,
   "metadata": {
    "collapsed": true
   },
   "outputs": [],
   "source": [
    "tot = sum(eig_vals)\n",
    "var_exp = [(i / tot)*100 for i in sorted(eig_vals, reverse=True)]\n",
    "cum_var_exp = np.cumsum(var_exp)"
   ]
  },
  {
   "cell_type": "code",
   "execution_count": 214,
   "metadata": {
    "collapsed": false
   },
   "outputs": [
    {
     "data": {
      "image/png": "[encoded data removed]",
      "text/plain": [
       "<matplotlib.figure.Figure at 0x1adbd390>"
      ]
     },
     "metadata": {},
     "output_type": "display_data"
    }
   ],
   "source": [
    "with plt.style.context('seaborn-whitegrid'):\n",
    "    plt.figure(figsize=(21, 21))\n",
    "    plt.bar(range(21), var_exp, alpha=0.5, align='center',label='individual explained variance')\n",
    "    plt.step(range(21), cum_var_exp, where='mid',label='cumulative explained variance')\n",
    "    plt.ylabel('Explained variance ratio')\n",
    "    plt.xlabel('Principal components')\n",
    "    plt.legend(loc='best')\n",
    "    plt.tight_layout()"
   ]
  },
  {
   "cell_type": "code",
   "execution_count": null,
   "metadata": {
    "collapsed": true
   },
   "outputs": [],
   "source": [
    "# Principal Component Analysis on standardized data\n"
   ]
  },
  {
   "cell_type": "code",
   "execution_count": 218,
   "metadata": {
    "collapsed": true
   },
   "outputs": [],
   "source": [
    "b=pd.read_csv(\"C:/Users/ssssa/Desktop/Graman_credit/german_S.csv\")"
   ]
  },
  {
   "cell_type": "code",
   "execution_count": 60,
   "metadata": {
    "collapsed": true
   },
   "outputs": [],
   "source": [
    "pca = PCA().fit(b)"
   ]
  },
  {
   "cell_type": "code",
   "execution_count": 219,
   "metadata": {
    "collapsed": false
   },
   "outputs": [
    {
     "name": "stdout",
     "output_type": "stream",
     "text": [
      "NumPy covariance matrix: \n",
      "[[  1.08616573e-03   9.45052131e-04   7.30297365e-05   4.92398098e-04\n",
      "   -4.67082239e-04  -2.61989903e-04   4.72631936e-04   1.94855113e-04\n",
      "   -2.96890519e-04   1.33890269e-04   6.39322436e-05  -8.41506966e-05\n",
      "   -4.25348369e-04   7.32786411e-05   2.03864514e-04   1.06825292e-05\n",
      "    1.77272672e-05  -7.30950847e-05   8.27364915e-06   8.36408609e-06\n",
      "    5.46325577e-05]\n",
      " [  9.45052131e-04   7.50034062e-03  -2.04832450e-04   9.39007539e-04\n",
      "   -1.27341609e-03  -9.90612355e-04   1.46167905e-03   9.40401712e-05\n",
      "   -6.17402431e-04  -7.38227829e-05  -4.06817440e-04  -7.66434912e-04\n",
      "   -6.73994898e-04  -2.04393577e-04   1.38490587e-04  -1.55610987e-04\n",
      "    7.07689358e-05  -1.43652624e-04  -1.08403036e-04  -2.14666339e-05\n",
      "   -7.94046722e-05]\n",
      " [  7.30297365e-05  -2.04832450e-04   9.07006562e-04   1.48688523e-05\n",
      "   -2.11641454e-03   4.52368242e-04  -4.57832313e-04  -2.92642420e-04\n",
      "   -5.39195439e-05   2.22727376e-04   2.12489425e-04  -4.54770013e-05\n",
      "   -1.65708647e-04   9.07856885e-04   3.86305781e-04   1.54249569e-04\n",
      "   -1.33421838e-05   1.22872737e-04   1.67212777e-04  -8.08607692e-06\n",
      "    1.94940070e-04]\n",
      " [  4.92398098e-04   9.39007539e-04   1.48688523e-05   5.57336867e-03\n",
      "   -2.76414392e-03  -7.57945054e-04  -3.09111833e-04   4.19134652e-04\n",
      "   -6.61185447e-05   6.37230920e-05  -5.71590410e-05   7.00699739e-05\n",
      "   -5.85687864e-04   1.48939426e-05   6.25981059e-04   9.76279775e-05\n",
      "    1.21009719e-03  -1.20459378e-04   1.46118351e-05   1.18354743e-05\n",
      "    7.35636890e-05]\n",
      " [ -4.67082239e-04  -1.27341609e-03  -2.11641454e-03  -2.76414392e-03\n",
      "    2.92467758e-02  -4.17590634e-03  -2.14812158e-03  -2.10129022e-03\n",
      "   -1.16176899e-03  -1.66643890e-03  -6.98845332e-04  -2.52321583e-03\n",
      "   -1.60695742e-03  -2.11781375e-03  -2.27127467e-03  -1.17511251e-03\n",
      "   -6.66162931e-04  -1.75900684e-03  -9.00396091e-04  -5.45153030e-04\n",
      "   -8.79341849e-04]\n",
      " [ -2.61989903e-04  -9.90612355e-04   4.52368242e-04  -7.57945054e-04\n",
      "   -4.17590634e-03   3.77139845e-03  -1.51224159e-03  -1.45635142e-03\n",
      "   -5.49293626e-04  -9.25199098e-05   2.34942793e-04  -7.76140068e-04\n",
      "   -2.04833601e-04   4.52625535e-04   4.18804174e-04  -6.22202449e-05\n",
      "   -2.88559916e-04   9.01799877e-05   5.26726064e-05  -2.20086867e-04\n",
      "    1.83112672e-04]\n",
      " [  4.72631936e-04   1.46167905e-03  -4.57832313e-04  -3.09111833e-04\n",
      "   -2.14812158e-03  -1.51224159e-03   1.11747571e-02   1.08122472e-04\n",
      "   -6.03973941e-04  -4.28347633e-04  -5.26674626e-04   6.17278708e-05\n",
      "   -4.06223475e-04  -4.57062394e-04  -3.85574672e-04  -3.75685166e-04\n",
      "   -4.18886830e-04  -4.97443773e-04  -1.16447950e-04   3.16573438e-05\n",
      "   -1.14943216e-04]\n",
      " [  1.94855113e-04   9.40401712e-05  -2.92642420e-04   4.19134652e-04\n",
      "   -2.10129022e-03  -1.45635142e-03   1.08122472e-04   6.37608895e-03\n",
      "    2.11182483e-04   1.69281037e-04  -1.45021433e-05   9.75247006e-04\n",
      "   -1.96969101e-05  -2.92522450e-04  -2.51193559e-04   5.90303339e-05\n",
      "    1.42257526e-04   3.85502885e-05   1.25106249e-04  -7.49178339e-05\n",
      "   -6.41381444e-05]\n",
      " [ -2.96890519e-04  -6.17402431e-04  -5.39195439e-05  -6.61185447e-05\n",
      "   -1.16176899e-03  -5.49293626e-04  -6.03973941e-04   2.11182483e-04\n",
      "    6.19731062e-03   3.51317121e-04   2.17815175e-05  -1.83575343e-04\n",
      "   -6.74772300e-05  -5.46124574e-05  -1.93984452e-05   1.48246470e-04\n",
      "   -1.11804532e-04   1.85185727e-04  -1.92108262e-04  -1.35875408e-04\n",
      "   -7.92280186e-05]\n",
      " [  1.33890269e-04  -7.38227829e-05   2.22727376e-04   6.37230920e-05\n",
      "   -1.66643890e-03  -9.25199098e-05  -4.28347633e-04   1.69281037e-04\n",
      "    3.51317121e-04   2.66557651e-03   2.35067671e-04  -3.22428027e-04\n",
      "   -2.54526008e-04   2.22432354e-04   8.17032959e-05   1.95293159e-04\n",
      "    6.19537238e-05  -1.97441809e-05   2.35854084e-04  -1.91488316e-05\n",
      "    1.51728175e-04]\n",
      " [  6.39322436e-05  -4.06817440e-04   2.12489425e-04  -5.71590410e-05\n",
      "   -6.98845332e-04   2.34942793e-04  -5.26674626e-04  -1.45021433e-05\n",
      "    2.17815175e-05   2.35067671e-04   1.34974506e-03  -4.16489209e-05\n",
      "   -3.99282009e-04   2.12306579e-04   1.17851155e-04   2.21278020e-06\n",
      "   -7.54100892e-06   2.89557974e-05   1.01398275e-04  -6.74760085e-05\n",
      "    1.57882807e-04]\n",
      " [ -8.41506966e-05  -7.66434912e-04  -4.54770013e-05   7.00699739e-05\n",
      "   -2.52321583e-03  -7.76140068e-04   6.17278708e-05   9.75247006e-04\n",
      "   -1.83575343e-04  -3.22428027e-04  -4.16489209e-05   5.88464402e-03\n",
      "    4.64805821e-04  -4.60085163e-05   1.65059291e-05  -2.07030033e-04\n",
      "    1.04020092e-04  -1.72802458e-04   4.28009297e-05   1.09129240e-04\n",
      "   -3.26735970e-05]\n",
      " [ -4.25348369e-04  -6.73994898e-04  -1.65708647e-04  -5.85687864e-04\n",
      "   -1.60695742e-03  -2.04833601e-04  -4.06223475e-04  -1.96969101e-05\n",
      "   -6.74772300e-05  -2.54526008e-04  -3.99282009e-04   4.64805821e-04\n",
      "    5.20970002e-03  -1.65853774e-04  -5.28944527e-04   7.45335688e-04\n",
      "   -1.90247939e-04   7.52598789e-04  -5.07183622e-05   3.55007703e-04\n",
      "   -1.46491354e-04]\n",
      " [  7.32786411e-05  -2.04393577e-04   9.07856885e-04   1.48939426e-05\n",
      "   -2.11781375e-03   4.52625535e-04  -4.57062394e-04  -2.92522450e-04\n",
      "   -5.46124574e-05   2.22432354e-04   2.12306579e-04  -4.60085163e-05\n",
      "   -1.65853774e-04   9.08731681e-04   3.86252173e-04   1.54234738e-04\n",
      "   -1.32969915e-05   1.22873545e-04   1.67050637e-04  -8.10411556e-06\n",
      "    1.94932526e-04]\n",
      " [  2.03864514e-04   1.38490587e-04   3.86305781e-04   6.25981059e-04\n",
      "   -2.27127467e-03   4.18804174e-04  -3.85574672e-04  -2.51193559e-04\n",
      "   -1.93984452e-05   8.17032959e-05   1.17851155e-04   1.65059291e-05\n",
      "   -5.28944527e-04   3.86252173e-04   2.87871806e-03  -1.01173017e-04\n",
      "   -1.26034239e-04   1.66396229e-04   2.23096927e-05  -2.74877587e-05\n",
      "    1.52806156e-04]\n",
      " [  1.06825292e-05  -1.55610987e-04   1.54249569e-04   9.76279775e-05\n",
      "   -1.17511251e-03  -6.22202449e-05  -3.75685166e-04   5.90303339e-05\n",
      "    1.48246470e-04   1.95293159e-04   2.21278020e-06  -2.07030033e-04\n",
      "    7.45335688e-04   1.54234738e-04  -1.01173017e-04   1.38632441e-03\n",
      "    1.29433235e-06   1.61929595e-04   1.36264331e-04   7.48547007e-05\n",
      "    1.36847363e-05]\n",
      " [  1.77272672e-05   7.07689358e-05  -1.33421838e-05   1.21009719e-03\n",
      "   -6.66162931e-04  -2.88559916e-04  -4.18886830e-04   1.42257526e-04\n",
      "   -1.11804532e-04   6.19537238e-05  -7.54100892e-06   1.04020092e-04\n",
      "   -1.90247939e-04  -1.32969915e-05  -1.26034239e-04   1.29433235e-06\n",
      "    1.54099264e-03  -1.57157867e-04   9.53438731e-05   1.17479398e-05\n",
      "    7.04743046e-06]\n",
      " [ -7.30950847e-05  -1.43652624e-04   1.22872737e-04  -1.20459378e-04\n",
      "   -1.75900684e-03   9.01799877e-05  -4.97443773e-04   3.85502885e-05\n",
      "    1.85185727e-04  -1.97441809e-05   2.89557974e-05  -1.72802458e-04\n",
      "    7.52598789e-04   1.22873545e-04   1.66396229e-04   1.61929595e-04\n",
      "   -1.57157867e-04   2.20753774e-03  -6.84464248e-05   5.35347552e-04\n",
      "    3.00126117e-05]\n",
      " [  8.27364915e-06  -1.08403036e-04   1.67212777e-04   1.46118351e-05\n",
      "   -9.00396091e-04   5.26726064e-05  -1.16447950e-04   1.25106249e-04\n",
      "   -1.92108262e-04   2.35854084e-04   1.01398275e-04   4.28009297e-05\n",
      "   -5.07183622e-05   1.67050637e-04   2.23096927e-05   1.36264331e-04\n",
      "    9.53438731e-05  -6.84464248e-05   7.05053123e-04  -1.99268938e-05\n",
      "    9.04451840e-05]\n",
      " [  8.36408609e-06  -2.14666339e-05  -8.08607692e-06   1.18354743e-05\n",
      "   -5.45153030e-04  -2.20086867e-04   3.16573438e-05  -7.49178339e-05\n",
      "   -1.35875408e-04  -1.91488316e-05  -6.74760085e-05   1.09129240e-04\n",
      "    3.55007703e-04  -8.10411556e-06  -2.74877587e-05   7.48547007e-05\n",
      "    1.17479398e-05   5.35347552e-04  -1.99268938e-05   1.15025388e-03\n",
      "   -1.44929315e-05]\n",
      " [  5.46325577e-05  -7.94046722e-05   1.94940070e-04   7.35636890e-05\n",
      "   -8.79341849e-04   1.83112672e-04  -1.14943216e-04  -6.41381444e-05\n",
      "   -7.92280186e-05   1.51728175e-04   1.57882807e-04  -3.26735970e-05\n",
      "   -1.46491354e-04   1.94932526e-04   1.52806156e-04   1.36847363e-05\n",
      "    7.04743046e-06   3.00126117e-05   9.04451840e-05  -1.44929315e-05\n",
      "    2.68535791e-04]]\n"
     ]
    }
   ],
   "source": [
    "mean_vec = np.mean(a, axis=0)\n",
    "cov_mat = (a - mean_vec).T.dot((a - mean_vec)) / (a.shape[0]-1)\n",
    "print('NumPy covariance matrix: \\n%s' %np.cov(a.T))"
   ]
  },
  {
   "cell_type": "code",
   "execution_count": 220,
   "metadata": {
    "collapsed": true
   },
   "outputs": [],
   "source": [
    "cov_mat = np.cov(a.T)\n",
    "eig_vals, eig_vecs = np.linalg.eig(cov_mat)"
   ]
  },
  {
   "cell_type": "code",
   "execution_count": 221,
   "metadata": {
    "collapsed": true
   },
   "outputs": [],
   "source": [
    "# Make a list of (eigenvalue, eigenvector) tuples"
   ]
  },
  {
   "cell_type": "code",
   "execution_count": 222,
   "metadata": {
    "collapsed": true
   },
   "outputs": [],
   "source": [
    "eig_pairs = [(np.abs(eig_vals[i]), eig_vecs[:,i]) for i in range(len(eig_vals))]"
   ]
  },
  {
   "cell_type": "code",
   "execution_count": 223,
   "metadata": {
    "collapsed": true
   },
   "outputs": [],
   "source": [
    "# Sort the (eigenvalue, eigenvector) tuples from high to low"
   ]
  },
  {
   "cell_type": "code",
   "execution_count": null,
   "metadata": {
    "collapsed": true
   },
   "outputs": [],
   "source": [
    "eig_pairs.sort(key=lambda x: x[0], reverse=True)"
   ]
  },
  {
   "cell_type": "code",
   "execution_count": 224,
   "metadata": {
    "collapsed": true
   },
   "outputs": [],
   "source": [
    "# Visually confirm that the list is correctly sorted by decreasing eigenvalues\n"
   ]
  },
  {
   "cell_type": "code",
   "execution_count": 226,
   "metadata": {
    "collapsed": false
   },
   "outputs": [
    {
     "name": "stdout",
     "output_type": "stream",
     "text": [
      "Eigenvalues in descending order:\n",
      "0.0317422014429\n",
      "0.0124583847497\n",
      "0.00828124676968\n",
      "0.0079853792112\n",
      "0.00638675716624\n",
      "0.00574332261107\n",
      "0.00505270619729\n",
      "0.00474181354142\n",
      "0.00278025992045\n",
      "0.0026845604663\n",
      "0.00210338205158\n",
      "0.00160657908029\n",
      "0.00122536068384\n",
      "0.00117731501054\n",
      "0.000469466294146\n",
      "0.000605727029293\n",
      "0.000192427221405\n",
      "0.000815087805445\n",
      "0.000893754026506\n",
      "1.1446761154e-08\n",
      "0.00104328277896\n"
     ]
    }
   ],
   "source": [
    "print('Eigenvalues in descending order:')\n",
    "for i in eig_pairs:\n",
    "    print(i[0])"
   ]
  },
  {
   "cell_type": "code",
   "execution_count": 227,
   "metadata": {
    "collapsed": true
   },
   "outputs": [],
   "source": [
    "tot = sum(eig_vals)\n",
    "var_exp = [(i / tot)*100 for i in sorted(eig_vals, reverse=True)]\n",
    "cum_var_exp = np.cumsum(var_exp)"
   ]
  },
  {
   "cell_type": "code",
   "execution_count": 228,
   "metadata": {
    "collapsed": false
   },
   "outputs": [
    {
     "data": {
      "image/png": "[encoded data removed]",
      "text/plain": [
       "<matplotlib.figure.Figure at 0x1d04fa90>"
      ]
     },
     "metadata": {},
     "output_type": "display_data"
    }
   ],
   "source": [
    "with plt.style.context('seaborn-whitegrid'):\n",
    "    plt.figure(figsize=(21, 21))\n",
    "    plt.bar(range(21), var_exp, alpha=0.5, align='center',label='individual explained variance')\n",
    "    plt.step(range(21), cum_var_exp, where='mid',label='cumulative explained variance')\n",
    "    plt.ylabel('Explained variance ratio')\n",
    "    plt.xlabel('Principal components')\n",
    "    plt.legend(loc='best')\n",
    "    plt.tight_layout()\n"
   ]
  },
  {
   "cell_type": "code",
   "execution_count": 63,
   "metadata": {
    "collapsed": true
   },
   "outputs": [],
   "source": [
    "#Implemntign the algorithms \n",
    "  #1. Logistic Regression\n"
   ]
  },
  {
   "cell_type": "code",
   "execution_count": null,
   "metadata": {
    "collapsed": true
   },
   "outputs": [],
   "source": [
    "from sklearn.linear_model import LogisticRegression"
   ]
  },
  {
   "cell_type": "code",
   "execution_count": 64,
   "metadata": {
    "collapsed": true
   },
   "outputs": [],
   "source": [
    "inputtrain=pd.read_csv(\"C:/Users/ssssa/Desktop/Graman_credit/Normalized/inputtrain.csv\")"
   ]
  },
  {
   "cell_type": "code",
   "execution_count": 65,
   "metadata": {
    "collapsed": true
   },
   "outputs": [],
   "source": [
    "trainoutput = pd.read_csv(\"C:/Users/ssssa/Desktop/Graman_credit/Normalized/trainoutput.csv\")\n",
    "testinput=pd.read_csv(\"C:/Users/ssssa/Desktop/Graman_credit/Normalized/testinput.csv\")\n",
    "testoutput=pd.read_csv(\"C:/Users/ssssa/Desktop/Graman_credit/Normalized/testoutput.csv\")"
   ]
  },
  {
   "cell_type": "code",
   "execution_count": 66,
   "metadata": {
    "collapsed": true
   },
   "outputs": [],
   "source": [
    "aa = LogisticRegression()"
   ]
  },
  {
   "cell_type": "code",
   "execution_count": 67,
   "metadata": {
    "collapsed": false
   },
   "outputs": [
    {
     "name": "stderr",
     "output_type": "stream",
     "text": [
      "C:\\Users\\ssssa\\Anaconda2\\lib\\site-packages\\sklearn\\utils\\validation.py:515: DataConversionWarning: A column-vector y was passed when a 1d array was expected. Please change the shape of y to (n_samples, ), for example using ravel().\n",
      "  y = column_or_1d(y, warn=True)\n"
     ]
    },
    {
     "data": {
      "text/plain": [
       "LogisticRegression(C=1.0, class_weight=None, dual=False, fit_intercept=True,\n",
       "          intercept_scaling=1, max_iter=100, multi_class='ovr', n_jobs=1,\n",
       "          penalty='l2', random_state=None, solver='liblinear', tol=0.0001,\n",
       "          verbose=0, warm_start=False)"
      ]
     },
     "execution_count": 67,
     "metadata": {},
     "output_type": "execute_result"
    }
   ],
   "source": [
    "aa.fit(inputtrain,trainoutput)"
   ]
  },
  {
   "cell_type": "code",
   "execution_count": 69,
   "metadata": {
    "collapsed": false
   },
   "outputs": [],
   "source": [
    "coef_l1_LR = aa.coef_.ravel()\n"
   ]
  },
  {
   "cell_type": "code",
   "execution_count": 72,
   "metadata": {
    "collapsed": false
   },
   "outputs": [],
   "source": [
    "aa.class_weight"
   ]
  },
  {
   "cell_type": "code",
   "execution_count": 74,
   "metadata": {
    "collapsed": false
   },
   "outputs": [],
   "source": [
    "p=aa.coef_"
   ]
  },
  {
   "cell_type": "code",
   "execution_count": 75,
   "metadata": {
    "collapsed": true
   },
   "outputs": [],
   "source": [
    "from sklearn.metrics import accuracy_score"
   ]
  },
  {
   "cell_type": "code",
   "execution_count": 76,
   "metadata": {
    "collapsed": true
   },
   "outputs": [],
   "source": [
    "y_pred= aa.predict(testinput)"
   ]
  },
  {
   "cell_type": "code",
   "execution_count": 77,
   "metadata": {
    "collapsed": true
   },
   "outputs": [],
   "source": [
    "logpredict=aa.predict_log_proba(testinput)"
   ]
  },
  {
   "cell_type": "code",
   "execution_count": 78,
   "metadata": {
    "collapsed": false
   },
   "outputs": [
    {
     "data": {
      "text/plain": [
       "0.95918367346938771"
      ]
     },
     "execution_count": 78,
     "metadata": {},
     "output_type": "execute_result"
    }
   ],
   "source": [
    "accuracy_score(y_pred, testoutput)"
   ]
  },
  {
   "cell_type": "code",
   "execution_count": 84,
   "metadata": {
    "collapsed": true
   },
   "outputs": [],
   "source": [
    "from sklearn.metrics import roc_auc_score\n",
    "from sklearn.metrics import f1_score\n",
    "from sklearn.metrics import precision_score\n",
    "from sklearn.metrics import recall_score\n",
    "from sklearn.metrics import classification_report"
   ]
  },
  {
   "cell_type": "code",
   "execution_count": 83,
   "metadata": {
    "collapsed": false
   },
   "outputs": [
    {
     "data": {
      "text/plain": [
       "0.97916666666666663"
      ]
     },
     "execution_count": 83,
     "metadata": {},
     "output_type": "execute_result"
    }
   ],
   "source": [
    "f1_score(y_pred, testoutput)"
   ]
  },
  {
   "cell_type": "code",
   "execution_count": 85,
   "metadata": {
    "collapsed": false
   },
   "outputs": [
    {
     "name": "stderr",
     "output_type": "stream",
     "text": [
      "C:\\Users\\ssssa\\Anaconda2\\lib\\site-packages\\sklearn\\metrics\\classification.py:1076: UndefinedMetricWarning: Recall and F-score are ill-defined and being set to 0.0 in labels with no true samples.\n",
      "  'recall', 'true', average, warn_for)\n"
     ]
    },
    {
     "data": {
      "text/plain": [
       "'             precision    recall  f1-score   support\\n\\n          1       1.00      0.96      0.98        98\\n          2       0.00      0.00      0.00         0\\n\\navg / total       1.00      0.96      0.98        98\\n'"
      ]
     },
     "execution_count": 85,
     "metadata": {},
     "output_type": "execute_result"
    }
   ],
   "source": [
    "classification_report(y_pred, testoutput)"
   ]
  },
  {
   "cell_type": "code",
   "execution_count": 86,
   "metadata": {
    "collapsed": false
   },
   "outputs": [
    {
     "data": {
      "text/plain": [
       "1.0"
      ]
     },
     "execution_count": 86,
     "metadata": {},
     "output_type": "execute_result"
    }
   ],
   "source": [
    "precision_score(y_pred, testoutput)"
   ]
  },
  {
   "cell_type": "code",
   "execution_count": 87,
   "metadata": {
    "collapsed": false
   },
   "outputs": [
    {
     "data": {
      "text/plain": [
       "0.95918367346938771"
      ]
     },
     "execution_count": 87,
     "metadata": {},
     "output_type": "execute_result"
    }
   ],
   "source": [
    "recall_score(y_pred, testoutput)"
   ]
  },
  {
   "cell_type": "code",
   "execution_count": 229,
   "metadata": {
    "collapsed": false
   },
   "outputs": [
    {
     "data": {
      "text/plain": [
       "array([[ 0.4115062 , -0.45773946, -0.39516162,  0.17789469, -1.49070847,\n",
       "        -1.012328  , -0.12072579, -0.16787428, -0.20236568, -0.09373567,\n",
       "         0.2700439 , -0.14172197, -1.16827285, -0.39511412, -0.18270653,\n",
       "        -0.06028134, -0.19475738, -0.74951818,  0.06170657, -0.11366095]])"
      ]
     },
     "execution_count": 229,
     "metadata": {},
     "output_type": "execute_result"
    }
   ],
   "source": [
    "aa.coef_"
   ]
  },
  {
   "cell_type": "code",
   "execution_count": 231,
   "metadata": {
    "collapsed": false
   },
   "outputs": [
    {
     "data": {
      "text/plain": [
       "array([1, 1, 1, 1, 1, 1, 1, 1, 1, 1, 1, 1, 1, 1, 1, 1, 1, 1, 1, 1, 1, 1, 1,\n",
       "       1, 1, 1, 1, 1, 1, 1, 1, 1, 1, 1, 1, 1, 1, 1, 1, 1, 1, 1, 1, 1, 1, 1,\n",
       "       1, 1, 1, 1, 1, 1, 1, 1, 1, 1, 1, 1, 1, 1, 1, 1, 1, 1, 1, 1, 1, 1, 1,\n",
       "       1, 1, 1, 1, 1, 1, 1, 1, 1, 1, 1, 1, 1, 1, 1, 1, 1, 1, 1, 1, 1, 1, 1,\n",
       "       1, 1, 1, 1, 1, 1], dtype=int64)"
      ]
     },
     "execution_count": 231,
     "metadata": {},
     "output_type": "execute_result"
    }
   ],
   "source": [
    "y_pred"
   ]
  },
  {
   "cell_type": "code",
   "execution_count": null,
   "metadata": {
    "collapsed": true
   },
   "outputs": [],
   "source": []
  },
  {
   "cell_type": "code",
   "execution_count": 88,
   "metadata": {
    "collapsed": true
   },
   "outputs": [],
   "source": [
    "#2. SVM"
   ]
  },
  {
   "cell_type": "code",
   "execution_count": 89,
   "metadata": {
    "collapsed": true
   },
   "outputs": [],
   "source": [
    "from sklearn import svm"
   ]
  },
  {
   "cell_type": "code",
   "execution_count": 90,
   "metadata": {
    "collapsed": true
   },
   "outputs": [],
   "source": [
    " clf = svm.SVC()"
   ]
  },
  {
   "cell_type": "code",
   "execution_count": 91,
   "metadata": {
    "collapsed": false
   },
   "outputs": [
    {
     "name": "stderr",
     "output_type": "stream",
     "text": [
      "C:\\Users\\ssssa\\Anaconda2\\lib\\site-packages\\sklearn\\svm\\base.py:514: DataConversionWarning: A column-vector y was passed when a 1d array was expected. Please change the shape of y to (n_samples, ), for example using ravel().\n",
      "  y_ = column_or_1d(y, warn=True)\n"
     ]
    },
    {
     "data": {
      "text/plain": [
       "SVC(C=1.0, cache_size=200, class_weight=None, coef0=0.0,\n",
       "  decision_function_shape=None, degree=3, gamma='auto', kernel='rbf',\n",
       "  max_iter=-1, probability=False, random_state=None, shrinking=True,\n",
       "  tol=0.001, verbose=False)"
      ]
     },
     "execution_count": 91,
     "metadata": {},
     "output_type": "execute_result"
    }
   ],
   "source": [
    "clf.fit(inputtrain,trainoutput) "
   ]
  },
  {
   "cell_type": "code",
   "execution_count": 92,
   "metadata": {
    "collapsed": true
   },
   "outputs": [],
   "source": [
    "y_pred=clf.predict(testinput)"
   ]
  },
  {
   "cell_type": "code",
   "execution_count": 93,
   "metadata": {
    "collapsed": false
   },
   "outputs": [
    {
     "data": {
      "text/plain": [
       "array([1, 1, 1, 1, 1, 1, 1, 1, 1, 1, 1, 1, 1, 1, 1, 1, 1, 1, 1, 1, 1, 1, 1,\n",
       "       1, 1, 1, 1, 1, 1, 1, 1, 1, 1, 1, 1, 1, 1, 1, 1, 1, 1, 1, 1, 1, 1, 1,\n",
       "       1, 1, 1, 1, 1, 1, 1, 1, 1, 1, 1, 1, 1, 1, 1, 1, 1, 1, 1, 1, 1, 1, 1,\n",
       "       1, 1, 1, 1, 1, 1, 1, 1, 1, 1, 1, 1, 1, 1, 1, 1, 1, 1, 1, 1, 1, 1, 1,\n",
       "       1, 1, 1, 1, 1, 1], dtype=int64)"
      ]
     },
     "execution_count": 93,
     "metadata": {},
     "output_type": "execute_result"
    }
   ],
   "source": [
    "y_pred"
   ]
  },
  {
   "cell_type": "code",
   "execution_count": 94,
   "metadata": {
    "collapsed": false
   },
   "outputs": [
    {
     "data": {
      "text/plain": [
       "array([[ 0.0798,  0.0798,  0.257 , ...,  0.16  ,  0.16  ,  0.0798],\n",
       "       [ 0.0749,  0.0749,  0.292 , ...,  0.225 ,  0.15  ,  0.0749],\n",
       "       [ 0.0712,  0.285 ,  0.224 , ...,  0.285 ,  0.0712,  0.142 ],\n",
       "       ..., \n",
       "       [ 0.079 ,  0.158 ,  0.277 , ...,  0.158 ,  0.079 ,  0.079 ],\n",
       "       [ 0.0772,  0.154 ,  0.26  , ...,  0.232 ,  0.0772,  0.0772],\n",
       "       [ 0.0775,  0.155 ,  0.232 , ...,  0.232 ,  0.0775,  0.0775]])"
      ]
     },
     "execution_count": 94,
     "metadata": {},
     "output_type": "execute_result"
    }
   ],
   "source": [
    "clf.support_vectors_"
   ]
  },
  {
   "cell_type": "code",
   "execution_count": 95,
   "metadata": {
    "collapsed": false
   },
   "outputs": [
    {
     "data": {
      "text/plain": [
       "array([ 14,  18,  37,  44,  46,  48,  64,  68,  73,  86,  98, 107, 111,\n",
       "       128, 144, 155, 161, 175, 207, 215, 217, 231, 241, 245, 246, 254,\n",
       "       257, 264, 270, 304, 309, 312, 313, 339, 346, 358, 364, 371, 376,\n",
       "       380, 381, 386, 405, 414, 433, 436, 447, 449, 456, 471, 496, 497,\n",
       "       508, 510, 556, 593, 603, 627, 629, 644, 645, 670, 671, 677, 681,\n",
       "       703, 727, 802, 898,   2,   3,   4,   5,   6,  56, 202, 203, 209,\n",
       "       212, 216, 218, 318, 319, 322, 323, 325, 326, 327, 334, 335, 338,\n",
       "       340, 342, 344, 349, 356, 482, 486, 605, 657, 658, 659])"
      ]
     },
     "execution_count": 95,
     "metadata": {},
     "output_type": "execute_result"
    }
   ],
   "source": [
    "clf.support_"
   ]
  },
  {
   "cell_type": "code",
   "execution_count": 96,
   "metadata": {
    "collapsed": true
   },
   "outputs": [],
   "source": [
    "clf.class_weight"
   ]
  },
  {
   "cell_type": "code",
   "execution_count": 98,
   "metadata": {
    "collapsed": false
   },
   "outputs": [
    {
     "data": {
      "text/plain": [
       "array([1, 2], dtype=int64)"
      ]
     },
     "execution_count": 98,
     "metadata": {},
     "output_type": "execute_result"
    }
   ],
   "source": [
    "clf.classes_"
   ]
  },
  {
   "cell_type": "code",
   "execution_count": 99,
   "metadata": {
    "collapsed": true
   },
   "outputs": [],
   "source": [
    "clf.decision_function_shape"
   ]
  },
  {
   "cell_type": "code",
   "execution_count": 100,
   "metadata": {
    "collapsed": false
   },
   "outputs": [
    {
     "data": {
      "text/plain": [
       "array([[-1.        , -0.79072907, -0.79282657, -0.21790026, -1.        ,\n",
       "        -0.93360298, -0.06473196, -0.17754147, -0.05475193, -0.27451361,\n",
       "        -0.17766277, -0.20717343, -1.        , -0.12346779, -0.39487789,\n",
       "        -0.14833259, -0.22088975, -0.20927093, -0.10594928, -1.        ,\n",
       "        -0.90391524, -0.22810807, -0.09608476, -0.07255216, -0.16441467,\n",
       "        -1.        , -0.87343481, -0.06715395, -0.05723362, -0.21618831,\n",
       "        -1.        , -1.        , -1.        , -0.53719823, -1.        ,\n",
       "        -0.93284605, -0.0702487 , -0.3287683 , -0.20223563, -0.35468294,\n",
       "        -1.        , -0.22901759, -0.61411482, -0.23806573, -0.07066763,\n",
       "        -0.8796778 , -0.17097007, -0.05631649, -0.07414717, -0.76031736,\n",
       "        -0.74321401, -1.        , -1.        , -1.        , -0.72471095,\n",
       "        -0.12796474, -0.17362707, -0.77517169, -0.07288225, -0.04472921,\n",
       "        -0.08552962, -1.        , -1.        , -0.06639702, -1.        ,\n",
       "        -0.06605558, -0.10971874, -0.13360507, -0.78381169,  1.        ,\n",
       "         1.        ,  1.        ,  1.        ,  1.        ,  1.        ,\n",
       "         1.        ,  1.        ,  1.        ,  1.        ,  1.        ,\n",
       "         1.        ,  1.        ,  1.        ,  1.        ,  1.        ,\n",
       "         1.        ,  1.        ,  1.        ,  1.        ,  1.        ,\n",
       "         1.        ,  1.        ,  1.        ,  1.        ,  1.        ,\n",
       "         1.        ,  1.        ,  1.        ,  1.        ,  1.        ,\n",
       "         1.        ,  1.        ]])"
      ]
     },
     "execution_count": 100,
     "metadata": {},
     "output_type": "execute_result"
    }
   ],
   "source": [
    "clf.dual_coef_"
   ]
  },
  {
   "cell_type": "code",
   "execution_count": 101,
   "metadata": {
    "collapsed": false
   },
   "outputs": [
    {
     "data": {
      "text/plain": [
       "0"
      ]
     },
     "execution_count": 101,
     "metadata": {},
     "output_type": "execute_result"
    }
   ],
   "source": [
    "clf.fit_status_"
   ]
  },
  {
   "cell_type": "code",
   "execution_count": 102,
   "metadata": {
    "collapsed": false
   },
   "outputs": [
    {
     "data": {
      "text/plain": [
       "array([-1.01507889])"
      ]
     },
     "execution_count": 102,
     "metadata": {},
     "output_type": "execute_result"
    }
   ],
   "source": [
    "clf.intercept_"
   ]
  },
  {
   "cell_type": "code",
   "execution_count": 103,
   "metadata": {
    "collapsed": false
   },
   "outputs": [
    {
     "data": {
      "text/plain": [
       "array([69, 33])"
      ]
     },
     "execution_count": 103,
     "metadata": {},
     "output_type": "execute_result"
    }
   ],
   "source": [
    "clf.n_support_"
   ]
  },
  {
   "cell_type": "code",
   "execution_count": 106,
   "metadata": {
    "collapsed": false
   },
   "outputs": [
    {
     "data": {
      "text/plain": [
       "array([ 14,  18,  37,  44,  46,  48,  64,  68,  73,  86,  98, 107, 111,\n",
       "       128, 144, 155, 161, 175, 207, 215, 217, 231, 241, 245, 246, 254,\n",
       "       257, 264, 270, 304, 309, 312, 313, 339, 346, 358, 364, 371, 376,\n",
       "       380, 381, 386, 405, 414, 433, 436, 447, 449, 456, 471, 496, 497,\n",
       "       508, 510, 556, 593, 603, 627, 629, 644, 645, 670, 671, 677, 681,\n",
       "       703, 727, 802, 898,   2,   3,   4,   5,   6,  56, 202, 203, 209,\n",
       "       212, 216, 218, 318, 319, 322, 323, 325, 326, 327, 334, 335, 338,\n",
       "       340, 342, 344, 349, 356, 482, 486, 605, 657, 658, 659])"
      ]
     },
     "execution_count": 106,
     "metadata": {},
     "output_type": "execute_result"
    }
   ],
   "source": [
    "clf.support_"
   ]
  },
  {
   "cell_type": "code",
   "execution_count": 232,
   "metadata": {
    "collapsed": false
   },
   "outputs": [
    {
     "data": {
      "text/plain": [
       "3"
      ]
     },
     "execution_count": 232,
     "metadata": {},
     "output_type": "execute_result"
    }
   ],
   "source": [
    "clf.degree"
   ]
  },
  {
   "cell_type": "code",
   "execution_count": 233,
   "metadata": {
    "collapsed": false
   },
   "outputs": [
    {
     "data": {
      "text/plain": [
       "0.0"
      ]
     },
     "execution_count": 233,
     "metadata": {},
     "output_type": "execute_result"
    }
   ],
   "source": [
    "clf.coef0"
   ]
  },
  {
   "cell_type": "code",
   "execution_count": 236,
   "metadata": {
    "collapsed": false
   },
   "outputs": [
    {
     "data": {
      "text/plain": [
       "<bound method SVC.decision_function of SVC(C=1.0, cache_size=200, class_weight=None, coef0=0.0,\n",
       "  decision_function_shape=None, degree=3, gamma='auto', kernel='rbf',\n",
       "  max_iter=-1, probability=False, random_state=None, shrinking=True,\n",
       "  tol=0.001, verbose=False)>"
      ]
     },
     "execution_count": 236,
     "metadata": {},
     "output_type": "execute_result"
    }
   ],
   "source": [
    "clf.decision_function\n"
   ]
  },
  {
   "cell_type": "code",
   "execution_count": 237,
   "metadata": {
    "collapsed": true
   },
   "outputs": [],
   "source": [
    "#3.Naive Bayes"
   ]
  },
  {
   "cell_type": "code",
   "execution_count": 238,
   "metadata": {
    "collapsed": true
   },
   "outputs": [],
   "source": [
    "from sklearn.naive_bayes import GaussianNB"
   ]
  },
  {
   "cell_type": "code",
   "execution_count": 239,
   "metadata": {
    "collapsed": true
   },
   "outputs": [],
   "source": [
    "gnb = GaussianNB()"
   ]
  },
  {
   "cell_type": "code",
   "execution_count": 241,
   "metadata": {
    "collapsed": false
   },
   "outputs": [
    {
     "name": "stderr",
     "output_type": "stream",
     "text": [
      "C:\\Users\\ssssa\\Anaconda2\\lib\\site-packages\\sklearn\\utils\\validation.py:515: DataConversionWarning: A column-vector y was passed when a 1d array was expected. Please change the shape of y to (n_samples, ), for example using ravel().\n",
      "  y = column_or_1d(y, warn=True)\n"
     ]
    }
   ],
   "source": [
    "clf= gnb.fit(inputtrain,trainoutput)"
   ]
  },
  {
   "cell_type": "code",
   "execution_count": 242,
   "metadata": {
    "collapsed": true
   },
   "outputs": [],
   "source": [
    "y_pred= clf.predict(testinput)"
   ]
  },
  {
   "cell_type": "code",
   "execution_count": 243,
   "metadata": {
    "collapsed": false
   },
   "outputs": [
    {
     "data": {
      "text/plain": [
       "array([1, 1, 1, 1, 1, 1, 1, 1, 1, 1, 1, 1, 1, 1, 1, 1, 1, 1, 1, 1, 1, 1, 1,\n",
       "       1, 1, 1, 1, 1, 1, 1, 1, 1, 1, 1, 1, 1, 1, 1, 1, 1, 1, 1, 1, 1, 1, 1,\n",
       "       1, 1, 1, 1, 1, 1, 1, 1, 1, 1, 1, 1, 1, 1, 1, 1, 1, 1, 1, 1, 1, 1, 1,\n",
       "       1, 1, 1, 1, 1, 1, 1, 1, 1, 1, 1, 1, 1, 1, 1, 1, 1, 1, 1, 1, 1, 1, 1,\n",
       "       1, 1, 1, 1, 1, 1], dtype=int64)"
      ]
     },
     "execution_count": 243,
     "metadata": {},
     "output_type": "execute_result"
    }
   ],
   "source": [
    "y_pred"
   ]
  },
  {
   "cell_type": "code",
   "execution_count": 244,
   "metadata": {
    "collapsed": false
   },
   "outputs": [
    {
     "data": {
      "text/plain": [
       "<bound method GaussianNB.score of GaussianNB()>"
      ]
     },
     "execution_count": 244,
     "metadata": {},
     "output_type": "execute_result"
    }
   ],
   "source": [
    "clf.score"
   ]
  },
  {
   "cell_type": "code",
   "execution_count": 245,
   "metadata": {
    "collapsed": false
   },
   "outputs": [
    {
     "data": {
      "text/plain": [
       "array([[  9.26072961e-04,   7.36952408e-03,   8.28479784e-04,\n",
       "          5.21587097e-03,   2.80599799e-02,   3.52107517e-03,\n",
       "          1.14358701e-02,   6.10458469e-03,   6.04721952e-03,\n",
       "          2.64875755e-03,   1.32713853e-03,   5.76781832e-03,\n",
       "          5.10006154e-03,   8.30382345e-04,   2.64221462e-03,\n",
       "          1.29676125e-03,   1.50222864e-03,   2.14135376e-03,\n",
       "          6.61943751e-04,   1.13345441e-03],\n",
       "       [  3.63962816e-05,   7.98409788e-03,   9.53059716e-04,\n",
       "          5.89003661e-03,   2.59317843e-02,   2.66733520e-03,\n",
       "          1.15194029e-02,   6.11798049e-03,   6.00234961e-03,\n",
       "          1.65946192e-03,   2.25251487e-03,   4.48430467e-03,\n",
       "          5.09991437e-03,   9.54966052e-04,   2.11004807e-03,\n",
       "          5.92122452e-04,   1.23871878e-03,   2.28690625e-03,\n",
       "          1.01682897e-03,   1.07542776e-03]])"
      ]
     },
     "execution_count": 245,
     "metadata": {},
     "output_type": "execute_result"
    }
   ],
   "source": [
    "clf.sigma_"
   ]
  },
  {
   "cell_type": "code",
   "execution_count": 246,
   "metadata": {
    "collapsed": false
   },
   "outputs": [
    {
     "data": {
      "text/plain": [
       "array([[ 0.05441732,  0.18850901,  0.25132333,  0.18271975,  0.19389792,\n",
       "         0.55224249,  0.15091339,  0.23816559,  0.21046813,  0.19002309,\n",
       "         0.08158603,  0.19983072,  0.1663791 ,  0.25129215,  0.19286686,\n",
       "         0.13704249,  0.09909931,  0.20667702,  0.08151848,  0.09918487],\n",
       "       [ 0.07166364,  0.18458182,  0.2539697 ,  0.20329091,  0.12581515,\n",
       "         0.55124242,  0.15893636,  0.24817879,  0.21566364,  0.19951515,\n",
       "         0.0958303 ,  0.20916667,  0.13383333,  0.25393939,  0.19987273,\n",
       "         0.1427    ,  0.09970606,  0.19312727,  0.08908788,  0.10081212]])"
      ]
     },
     "execution_count": 246,
     "metadata": {},
     "output_type": "execute_result"
    }
   ],
   "source": [
    "clf.theta_"
   ]
  },
  {
   "cell_type": "code",
   "execution_count": 247,
   "metadata": {
    "collapsed": false
   },
   "outputs": [
    {
     "data": {
      "text/plain": [
       "array([ 866.,   33.])"
      ]
     },
     "execution_count": 247,
     "metadata": {},
     "output_type": "execute_result"
    }
   ],
   "source": [
    "clf.class_count_"
   ]
  },
  {
   "cell_type": "code",
   "execution_count": 248,
   "metadata": {
    "collapsed": false
   },
   "outputs": [
    {
     "data": {
      "text/plain": [
       "array([ 0.96329255,  0.03670745])"
      ]
     },
     "execution_count": 248,
     "metadata": {},
     "output_type": "execute_result"
    }
   ],
   "source": [
    "clf.class_prior_"
   ]
  },
  {
   "cell_type": "code",
   "execution_count": 249,
   "metadata": {
    "collapsed": false
   },
   "outputs": [
    {
     "data": {
      "text/plain": [
       "<bound method GaussianNB.get_params of GaussianNB()>"
      ]
     },
     "execution_count": 249,
     "metadata": {},
     "output_type": "execute_result"
    }
   ],
   "source": [
    "clf.get_params"
   ]
  },
  {
   "cell_type": "code",
   "execution_count": 250,
   "metadata": {
    "collapsed": false
   },
   "outputs": [
    {
     "data": {
      "text/plain": [
       "0.95918367346938771"
      ]
     },
     "execution_count": 250,
     "metadata": {},
     "output_type": "execute_result"
    }
   ],
   "source": [
    "\n",
    "accuracy_score(y_pred, testoutput)"
   ]
  },
  {
   "cell_type": "code",
   "execution_count": 251,
   "metadata": {
    "collapsed": false
   },
   "outputs": [
    {
     "data": {
      "text/plain": [
       "0.97916666666666663"
      ]
     },
     "execution_count": 251,
     "metadata": {},
     "output_type": "execute_result"
    }
   ],
   "source": [
    "f1_score(y_pred, testoutput)"
   ]
  },
  {
   "cell_type": "code",
   "execution_count": null,
   "metadata": {
    "collapsed": true
   },
   "outputs": [],
   "source": []
  },
  {
   "cell_type": "code",
   "execution_count": 252,
   "metadata": {
    "collapsed": false
   },
   "outputs": [
    {
     "data": {
      "text/plain": [
       "'             precision    recall  f1-score   support\\n\\n          1       1.00      0.96      0.98        98\\n          2       0.00      0.00      0.00         0\\n\\navg / total       1.00      0.96      0.98        98\\n'"
      ]
     },
     "execution_count": 252,
     "metadata": {},
     "output_type": "execute_result"
    }
   ],
   "source": [
    "classification_report(y_pred, testoutput)"
   ]
  },
  {
   "cell_type": "code",
   "execution_count": 253,
   "metadata": {
    "collapsed": false
   },
   "outputs": [
    {
     "data": {
      "text/plain": [
       "1.0"
      ]
     },
     "execution_count": 253,
     "metadata": {},
     "output_type": "execute_result"
    }
   ],
   "source": [
    "precision_score(y_pred, testoutput)"
   ]
  },
  {
   "cell_type": "code",
   "execution_count": 254,
   "metadata": {
    "collapsed": false
   },
   "outputs": [
    {
     "data": {
      "text/plain": [
       "0.95918367346938771"
      ]
     },
     "execution_count": 254,
     "metadata": {},
     "output_type": "execute_result"
    }
   ],
   "source": [
    "recall_score(y_pred, testoutput)"
   ]
  },
  {
   "cell_type": "code",
   "execution_count": null,
   "metadata": {
    "collapsed": true
   },
   "outputs": [],
   "source": []
  },
  {
   "cell_type": "code",
   "execution_count": 255,
   "metadata": {
    "collapsed": true
   },
   "outputs": [],
   "source": [
    "#4. K -Nearest Neighbour"
   ]
  },
  {
   "cell_type": "code",
   "execution_count": 266,
   "metadata": {
    "collapsed": true
   },
   "outputs": [],
   "source": [
    "from sklearn.neighbors import NearestNeighbors\n",
    "from sklearn import neighbors"
   ]
  },
  {
   "cell_type": "code",
   "execution_count": 268,
   "metadata": {
    "collapsed": false
   },
   "outputs": [],
   "source": [
    "clf = neighbors.KNeighborsClassifier()\n"
   ]
  },
  {
   "cell_type": "code",
   "execution_count": 269,
   "metadata": {
    "collapsed": false
   },
   "outputs": [
    {
     "data": {
      "text/plain": [
       "KNeighborsClassifier(algorithm='auto', leaf_size=30, metric='minkowski',\n",
       "           metric_params=None, n_jobs=1, n_neighbors=5, p=2,\n",
       "           weights='uniform')"
      ]
     },
     "execution_count": 269,
     "metadata": {},
     "output_type": "execute_result"
    }
   ],
   "source": [
    "clf"
   ]
  },
  {
   "cell_type": "code",
   "execution_count": 270,
   "metadata": {
    "collapsed": false
   },
   "outputs": [
    {
     "data": {
      "text/plain": [
       "'auto'"
      ]
     },
     "execution_count": 270,
     "metadata": {},
     "output_type": "execute_result"
    }
   ],
   "source": [
    "clf.algorithm"
   ]
  },
  {
   "cell_type": "code",
   "execution_count": 271,
   "metadata": {
    "collapsed": false
   },
   "outputs": [
    {
     "name": "stderr",
     "output_type": "stream",
     "text": [
      "C:\\Users\\ssssa\\Anaconda2\\lib\\site-packages\\ipykernel\\__main__.py:1: DataConversionWarning: A column-vector y was passed when a 1d array was expected. Please change the shape of y to (n_samples, ), for example using ravel().\n",
      "  if __name__ == '__main__':\n"
     ]
    },
    {
     "data": {
      "text/plain": [
       "KNeighborsClassifier(algorithm='auto', leaf_size=30, metric='minkowski',\n",
       "           metric_params=None, n_jobs=1, n_neighbors=5, p=2,\n",
       "           weights='uniform')"
      ]
     },
     "execution_count": 271,
     "metadata": {},
     "output_type": "execute_result"
    }
   ],
   "source": [
    "clf.fit(inputtrain,trainoutput)"
   ]
  },
  {
   "cell_type": "code",
   "execution_count": 273,
   "metadata": {
    "collapsed": false
   },
   "outputs": [],
   "source": [
    "y_predict= clf.predict(testinput)\n"
   ]
  },
  {
   "cell_type": "code",
   "execution_count": 274,
   "metadata": {
    "collapsed": false
   },
   "outputs": [
    {
     "data": {
      "text/plain": [
       "array([1, 1, 1, 1, 1, 1, 1, 1, 1, 1, 1, 1, 1, 1, 1, 1, 1, 1, 1, 1, 1, 1, 1,\n",
       "       1, 1, 1, 1, 1, 1, 1, 1, 1, 1, 1, 1, 1, 1, 1, 1, 1, 1, 1, 1, 1, 1, 1,\n",
       "       1, 1, 1, 1, 1, 1, 1, 1, 1, 1, 1, 1, 1, 1, 1, 1, 1, 1, 1, 1, 1, 1, 1,\n",
       "       1, 1, 1, 1, 1, 1, 1, 1, 1, 1, 1, 1, 1, 1, 1, 1, 1, 1, 1, 1, 1, 1, 1,\n",
       "       1, 1, 1, 1, 1, 1], dtype=int64)"
      ]
     },
     "execution_count": 274,
     "metadata": {},
     "output_type": "execute_result"
    }
   ],
   "source": [
    "y_predict"
   ]
  },
  {
   "cell_type": "code",
   "execution_count": 275,
   "metadata": {
    "collapsed": false
   },
   "outputs": [
    {
     "data": {
      "text/plain": [
       "'euclidean'"
      ]
     },
     "execution_count": 275,
     "metadata": {},
     "output_type": "execute_result"
    }
   ],
   "source": [
    "clf.effective_metric_"
   ]
  },
  {
   "cell_type": "code",
   "execution_count": 276,
   "metadata": {
    "collapsed": false
   },
   "outputs": [
    {
     "data": {
      "text/plain": [
       "<bound method KNeighborsClassifier.kneighbors_graph of KNeighborsClassifier(algorithm='auto', leaf_size=30, metric='minkowski',\n",
       "           metric_params=None, n_jobs=1, n_neighbors=5, p=2,\n",
       "           weights='uniform')>"
      ]
     },
     "execution_count": 276,
     "metadata": {},
     "output_type": "execute_result"
    }
   ],
   "source": [
    "clf.kneighbors_graph"
   ]
  },
  {
   "cell_type": "code",
   "execution_count": 277,
   "metadata": {
    "collapsed": false
   },
   "outputs": [
    {
     "data": {
      "text/plain": [
       "sklearn.neighbors.classification.KNeighborsClassifier"
      ]
     },
     "execution_count": 277,
     "metadata": {},
     "output_type": "execute_result"
    }
   ],
   "source": [
    "clf.kneighbors_graph.im_class"
   ]
  },
  {
   "cell_type": "code",
   "execution_count": 278,
   "metadata": {
    "collapsed": false
   },
   "outputs": [
    {
     "data": {
      "text/plain": [
       "0.95918367346938771"
      ]
     },
     "execution_count": 278,
     "metadata": {},
     "output_type": "execute_result"
    }
   ],
   "source": [
    "accuracy_score(y_pred, testoutput)\n"
   ]
  },
  {
   "cell_type": "code",
   "execution_count": 279,
   "metadata": {
    "collapsed": false
   },
   "outputs": [
    {
     "data": {
      "text/plain": [
       "0.97916666666666663"
      ]
     },
     "execution_count": 279,
     "metadata": {},
     "output_type": "execute_result"
    }
   ],
   "source": [
    "f1_score(y_pred, testoutput)\n"
   ]
  },
  {
   "cell_type": "code",
   "execution_count": 280,
   "metadata": {
    "collapsed": false
   },
   "outputs": [
    {
     "data": {
      "text/plain": [
       "'             precision    recall  f1-score   support\\n\\n          1       1.00      0.96      0.98        98\\n          2       0.00      0.00      0.00         0\\n\\navg / total       1.00      0.96      0.98        98\\n'"
      ]
     },
     "execution_count": 280,
     "metadata": {},
     "output_type": "execute_result"
    }
   ],
   "source": [
    "classification_report(y_pred, testoutput)\n"
   ]
  },
  {
   "cell_type": "code",
   "execution_count": 281,
   "metadata": {
    "collapsed": false
   },
   "outputs": [
    {
     "data": {
      "text/plain": [
       "1.0"
      ]
     },
     "execution_count": 281,
     "metadata": {},
     "output_type": "execute_result"
    }
   ],
   "source": [
    "precision_score(y_pred, testoutput)\n"
   ]
  },
  {
   "cell_type": "code",
   "execution_count": 282,
   "metadata": {
    "collapsed": false
   },
   "outputs": [
    {
     "data": {
      "text/plain": [
       "0.95918367346938771"
      ]
     },
     "execution_count": 282,
     "metadata": {},
     "output_type": "execute_result"
    }
   ],
   "source": [
    "recall_score(y_pred, testoutput)"
   ]
  },
  {
   "cell_type": "code",
   "execution_count": null,
   "metadata": {
    "collapsed": true
   },
   "outputs": [],
   "source": []
  },
  {
   "cell_type": "code",
   "execution_count": null,
   "metadata": {
    "collapsed": true
   },
   "outputs": [],
   "source": [
    "# SGD \n"
   ]
  },
  {
   "cell_type": "code",
   "execution_count": 283,
   "metadata": {
    "collapsed": true
   },
   "outputs": [],
   "source": [
    "from sklearn.linear_model import SGDClassifier"
   ]
  },
  {
   "cell_type": "code",
   "execution_count": 284,
   "metadata": {
    "collapsed": true
   },
   "outputs": [],
   "source": [
    "clf = SGDClassifier()"
   ]
  },
  {
   "cell_type": "code",
   "execution_count": 285,
   "metadata": {
    "collapsed": false
   },
   "outputs": [
    {
     "name": "stderr",
     "output_type": "stream",
     "text": [
      "C:\\Users\\ssssa\\Anaconda2\\lib\\site-packages\\sklearn\\utils\\validation.py:515: DataConversionWarning: A column-vector y was passed when a 1d array was expected. Please change the shape of y to (n_samples, ), for example using ravel().\n",
      "  y = column_or_1d(y, warn=True)\n"
     ]
    },
    {
     "data": {
      "text/plain": [
       "SGDClassifier(alpha=0.0001, average=False, class_weight=None, epsilon=0.1,\n",
       "       eta0=0.0, fit_intercept=True, l1_ratio=0.15,\n",
       "       learning_rate='optimal', loss='hinge', n_iter=5, n_jobs=1,\n",
       "       penalty='l2', power_t=0.5, random_state=None, shuffle=True,\n",
       "       verbose=0, warm_start=False)"
      ]
     },
     "execution_count": 285,
     "metadata": {},
     "output_type": "execute_result"
    }
   ],
   "source": [
    "\n",
    "clf.fit(inputtrain,trainoutput)"
   ]
  },
  {
   "cell_type": "code",
   "execution_count": 286,
   "metadata": {
    "collapsed": false
   },
   "outputs": [
    {
     "data": {
      "text/plain": [
       "1.0"
      ]
     },
     "execution_count": 286,
     "metadata": {},
     "output_type": "execute_result"
    }
   ],
   "source": [
    "clf.C"
   ]
  },
  {
   "cell_type": "code",
   "execution_count": 287,
   "metadata": {
    "collapsed": true
   },
   "outputs": [],
   "source": [
    "clf.class_weight"
   ]
  },
  {
   "cell_type": "code",
   "execution_count": 288,
   "metadata": {
    "collapsed": false
   },
   "outputs": [
    {
     "data": {
      "text/plain": [
       "array([1, 2], dtype=int64)"
      ]
     },
     "execution_count": 288,
     "metadata": {},
     "output_type": "execute_result"
    }
   ],
   "source": [
    "clf.classes_"
   ]
  },
  {
   "cell_type": "code",
   "execution_count": 289,
   "metadata": {
    "collapsed": false
   },
   "outputs": [
    {
     "data": {
      "text/plain": [
       "array([[ 3.79231889, -0.86894794, -0.04186385,  1.4717874 , -2.30414998,\n",
       "        -0.70076447,  2.23844194,  1.31925737,  1.86494357,  0.41863851,\n",
       "         3.5336731 , -0.63796869, -3.83363669, -0.04368402,  0.8858755 ,\n",
       "         1.83891518, -2.28503822, -1.05296687,  1.1075719 ,  0.3174372 ]])"
      ]
     },
     "execution_count": 289,
     "metadata": {},
     "output_type": "execute_result"
    }
   ],
   "source": [
    "clf.coef_"
   ]
  },
  {
   "cell_type": "code",
   "execution_count": 290,
   "metadata": {
    "collapsed": false
   },
   "outputs": [
    {
     "data": {
      "text/plain": [
       "<bound method SGDClassifier.decision_function of SGDClassifier(alpha=0.0001, average=False, class_weight=None, epsilon=0.1,\n",
       "       eta0=0.0, fit_intercept=True, l1_ratio=0.15,\n",
       "       learning_rate='optimal', loss='hinge', n_iter=5, n_jobs=1,\n",
       "       penalty='l2', power_t=0.5, random_state=None, shuffle=True,\n",
       "       verbose=0, warm_start=False)>"
      ]
     },
     "execution_count": 290,
     "metadata": {},
     "output_type": "execute_result"
    }
   ],
   "source": [
    "clf.decision_function"
   ]
  },
  {
   "cell_type": "code",
   "execution_count": 291,
   "metadata": {
    "collapsed": false
   },
   "outputs": [
    {
     "data": {
      "text/plain": [
       "<sklearn.linear_model.sgd_fast.Hinge at 0x1d3f7b10>"
      ]
     },
     "execution_count": 291,
     "metadata": {},
     "output_type": "execute_result"
    }
   ],
   "source": [
    "clf.loss_function"
   ]
  },
  {
   "cell_type": "code",
   "execution_count": 292,
   "metadata": {
    "collapsed": false
   },
   "outputs": [
    {
     "data": {
      "text/plain": [
       "0"
      ]
     },
     "execution_count": 292,
     "metadata": {},
     "output_type": "execute_result"
    }
   ],
   "source": [
    "clf.verbose"
   ]
  },
  {
   "cell_type": "code",
   "execution_count": 293,
   "metadata": {
    "collapsed": false
   },
   "outputs": [
    {
     "data": {
      "text/plain": [
       "<bound method SGDClassifier.score of SGDClassifier(alpha=0.0001, average=False, class_weight=None, epsilon=0.1,\n",
       "       eta0=0.0, fit_intercept=True, l1_ratio=0.15,\n",
       "       learning_rate='optimal', loss='hinge', n_iter=5, n_jobs=1,\n",
       "       penalty='l2', power_t=0.5, random_state=None, shuffle=True,\n",
       "       verbose=0, warm_start=False)>"
      ]
     },
     "execution_count": 293,
     "metadata": {},
     "output_type": "execute_result"
    }
   ],
   "source": [
    "clf.score"
   ]
  },
  {
   "cell_type": "code",
   "execution_count": 294,
   "metadata": {
    "collapsed": false
   },
   "outputs": [
    {
     "data": {
      "text/plain": [
       "'optimal'"
      ]
     },
     "execution_count": 294,
     "metadata": {},
     "output_type": "execute_result"
    }
   ],
   "source": [
    "clf.learning_rate"
   ]
  },
  {
   "cell_type": "code",
   "execution_count": 295,
   "metadata": {
    "collapsed": false
   },
   "outputs": [
    {
     "data": {
      "text/plain": [
       "<bound method SGDClassifier.densify of SGDClassifier(alpha=0.0001, average=False, class_weight=None, epsilon=0.1,\n",
       "       eta0=0.0, fit_intercept=True, l1_ratio=0.15,\n",
       "       learning_rate='optimal', loss='hinge', n_iter=5, n_jobs=1,\n",
       "       penalty='l2', power_t=0.5, random_state=None, shuffle=True,\n",
       "       verbose=0, warm_start=False)>"
      ]
     },
     "execution_count": 295,
     "metadata": {},
     "output_type": "execute_result"
    }
   ],
   "source": [
    "clf.densify"
   ]
  },
  {
   "cell_type": "code",
   "execution_count": 296,
   "metadata": {
    "collapsed": false
   },
   "outputs": [
    {
     "data": {
      "text/plain": [
       "0.95918367346938771"
      ]
     },
     "execution_count": 296,
     "metadata": {},
     "output_type": "execute_result"
    }
   ],
   "source": [
    "accuracy_score(y_pred, testoutput)"
   ]
  },
  {
   "cell_type": "code",
   "execution_count": 297,
   "metadata": {
    "collapsed": false
   },
   "outputs": [
    {
     "data": {
      "text/plain": [
       "0.97916666666666663"
      ]
     },
     "execution_count": 297,
     "metadata": {},
     "output_type": "execute_result"
    }
   ],
   "source": [
    "f1_score(y_pred, testoutput)"
   ]
  },
  {
   "cell_type": "code",
   "execution_count": 298,
   "metadata": {
    "collapsed": false
   },
   "outputs": [
    {
     "data": {
      "text/plain": [
       "'             precision    recall  f1-score   support\\n\\n          1       1.00      0.96      0.98        98\\n          2       0.00      0.00      0.00         0\\n\\navg / total       1.00      0.96      0.98        98\\n'"
      ]
     },
     "execution_count": 298,
     "metadata": {},
     "output_type": "execute_result"
    }
   ],
   "source": [
    "classification_report(y_pred, testoutput)"
   ]
  },
  {
   "cell_type": "code",
   "execution_count": 299,
   "metadata": {
    "collapsed": false
   },
   "outputs": [
    {
     "data": {
      "text/plain": [
       "1.0"
      ]
     },
     "execution_count": 299,
     "metadata": {},
     "output_type": "execute_result"
    }
   ],
   "source": [
    "precision_score(y_pred, testoutput)"
   ]
  },
  {
   "cell_type": "code",
   "execution_count": 300,
   "metadata": {
    "collapsed": false
   },
   "outputs": [
    {
     "data": {
      "text/plain": [
       "0.95918367346938771"
      ]
     },
     "execution_count": 300,
     "metadata": {},
     "output_type": "execute_result"
    }
   ],
   "source": [
    "recall_score(y_pred, testoutput)"
   ]
  },
  {
   "cell_type": "code",
   "execution_count": null,
   "metadata": {
    "collapsed": true
   },
   "outputs": [],
   "source": []
  },
  {
   "cell_type": "code",
   "execution_count": 301,
   "metadata": {
    "collapsed": true
   },
   "outputs": [],
   "source": [
    "# TREES CART Modelling"
   ]
  },
  {
   "cell_type": "code",
   "execution_count": 302,
   "metadata": {
    "collapsed": true
   },
   "outputs": [],
   "source": [
    "from sklearn import tree\n"
   ]
  },
  {
   "cell_type": "code",
   "execution_count": 303,
   "metadata": {
    "collapsed": true
   },
   "outputs": [],
   "source": [
    "clf = tree.DecisionTreeClassifier()\n"
   ]
  },
  {
   "cell_type": "code",
   "execution_count": 304,
   "metadata": {
    "collapsed": false
   },
   "outputs": [
    {
     "data": {
      "text/plain": [
       "DecisionTreeClassifier(class_weight=None, criterion='gini', max_depth=None,\n",
       "            max_features=None, max_leaf_nodes=None, min_samples_leaf=1,\n",
       "            min_samples_split=2, min_weight_fraction_leaf=0.0,\n",
       "            presort=False, random_state=None, splitter='best')"
      ]
     },
     "execution_count": 304,
     "metadata": {},
     "output_type": "execute_result"
    }
   ],
   "source": [
    "\n",
    "clf.fit(inputtrain,trainoutput)"
   ]
  },
  {
   "cell_type": "code",
   "execution_count": 305,
   "metadata": {
    "collapsed": true
   },
   "outputs": [],
   "source": [
    "clf.class_weight"
   ]
  },
  {
   "cell_type": "code",
   "execution_count": 306,
   "metadata": {
    "collapsed": false
   },
   "outputs": [
    {
     "data": {
      "text/plain": [
       "array([1, 2], dtype=int64)"
      ]
     },
     "execution_count": 306,
     "metadata": {},
     "output_type": "execute_result"
    }
   ],
   "source": [
    "clf.classes_"
   ]
  },
  {
   "cell_type": "code",
   "execution_count": 307,
   "metadata": {
    "collapsed": false
   },
   "outputs": [
    {
     "data": {
      "text/plain": [
       "array([ 0.04379664,  0.12156929,  0.02359332,  0.04461604,  0.03961846,\n",
       "        0.        ,  0.04779714,  0.05304766,  0.04527833,  0.01013478,\n",
       "        0.06426124,  0.03145776,  0.08448606,  0.01572888,  0.02097184,\n",
       "        0.        ,  0.09782973,  0.15439421,  0.01572888,  0.08568972])"
      ]
     },
     "execution_count": 307,
     "metadata": {},
     "output_type": "execute_result"
    }
   ],
   "source": [
    "clf.feature_importances_"
   ]
  },
  {
   "cell_type": "code",
   "execution_count": 308,
   "metadata": {
    "collapsed": false
   },
   "outputs": [
    {
     "data": {
      "text/plain": [
       "<bound method DecisionTreeClassifier.fit_transform of DecisionTreeClassifier(class_weight=None, criterion='gini', max_depth=None,\n",
       "            max_features=None, max_leaf_nodes=None, min_samples_leaf=1,\n",
       "            min_samples_split=2, min_weight_fraction_leaf=0.0,\n",
       "            presort=False, random_state=None, splitter='best')>"
      ]
     },
     "execution_count": 308,
     "metadata": {},
     "output_type": "execute_result"
    }
   ],
   "source": [
    "clf.fit_transform"
   ]
  },
  {
   "cell_type": "code",
   "execution_count": 309,
   "metadata": {
    "collapsed": true
   },
   "outputs": [],
   "source": [
    "clf.max_depth"
   ]
  },
  {
   "cell_type": "code",
   "execution_count": 310,
   "metadata": {
    "collapsed": true
   },
   "outputs": [],
   "source": [
    "y_predict=clf.predict(testinput)"
   ]
  },
  {
   "cell_type": "code",
   "execution_count": 311,
   "metadata": {
    "collapsed": false
   },
   "outputs": [
    {
     "data": {
      "text/plain": [
       "0.95918367346938771"
      ]
     },
     "execution_count": 311,
     "metadata": {},
     "output_type": "execute_result"
    }
   ],
   "source": [
    "accuracy_score(y_pred, testoutput)"
   ]
  },
  {
   "cell_type": "code",
   "execution_count": 312,
   "metadata": {
    "collapsed": false
   },
   "outputs": [
    {
     "data": {
      "text/plain": [
       "0.97916666666666663"
      ]
     },
     "execution_count": 312,
     "metadata": {},
     "output_type": "execute_result"
    }
   ],
   "source": [
    "f1_score(y_pred, testoutput)"
   ]
  },
  {
   "cell_type": "code",
   "execution_count": 313,
   "metadata": {
    "collapsed": false
   },
   "outputs": [
    {
     "data": {
      "text/plain": [
       "0.0"
      ]
     },
     "execution_count": 313,
     "metadata": {},
     "output_type": "execute_result"
    }
   ],
   "source": [
    "clf.min_weight_fraction_leaf"
   ]
  },
  {
   "cell_type": "code",
   "execution_count": 314,
   "metadata": {
    "collapsed": false
   },
   "outputs": [
    {
     "data": {
      "text/plain": [
       "'             precision    recall  f1-score   support\\n\\n          1       1.00      0.96      0.98        98\\n          2       0.00      0.00      0.00         0\\n\\navg / total       1.00      0.96      0.98        98\\n'"
      ]
     },
     "execution_count": 314,
     "metadata": {},
     "output_type": "execute_result"
    }
   ],
   "source": [
    "classification_report(y_pred, testoutput)"
   ]
  },
  {
   "cell_type": "code",
   "execution_count": 315,
   "metadata": {
    "collapsed": false
   },
   "outputs": [
    {
     "data": {
      "text/plain": [
       "1.0"
      ]
     },
     "execution_count": 315,
     "metadata": {},
     "output_type": "execute_result"
    }
   ],
   "source": [
    "precision_score(y_pred, testoutput)\n"
   ]
  },
  {
   "cell_type": "code",
   "execution_count": 316,
   "metadata": {
    "collapsed": false
   },
   "outputs": [
    {
     "data": {
      "text/plain": [
       "0.95918367346938771"
      ]
     },
     "execution_count": 316,
     "metadata": {},
     "output_type": "execute_result"
    }
   ],
   "source": [
    "recall_score(y_pred, testoutput)\n"
   ]
  },
  {
   "cell_type": "code",
   "execution_count": 317,
   "metadata": {
    "collapsed": true
   },
   "outputs": [],
   "source": [
    "from sklearn.ensemble import RandomForestClassifier"
   ]
  },
  {
   "cell_type": "code",
   "execution_count": 318,
   "metadata": {
    "collapsed": false
   },
   "outputs": [
    {
     "ename": "NameError",
     "evalue": "name 'DecisionTreeClassifier' is not defined",
     "output_type": "error",
     "traceback": [
      "\u001b[1;31m---------------------------------------------------------------------------\u001b[0m",
      "\u001b[1;31mNameError\u001b[0m                                 Traceback (most recent call last)",
      "\u001b[1;32m<ipython-input-318-b8d168d8b133>\u001b[0m in \u001b[0;36m<module>\u001b[1;34m()\u001b[0m\n\u001b[1;32m----> 1\u001b[1;33m \u001b[0mclf\u001b[0m \u001b[1;33m=\u001b[0m \u001b[0mDecisionTreeClassifier\u001b[0m\u001b[1;33m(\u001b[0m\u001b[1;33m)\u001b[0m\u001b[1;33m\u001b[0m\u001b[0m\n\u001b[0m",
      "\u001b[1;31mNameError\u001b[0m: name 'DecisionTreeClassifier' is not defined"
     ]
    }
   ],
   "source": [
    "clf = DecisionTreeClassifier()"
   ]
  },
  {
   "cell_type": "code",
   "execution_count": 319,
   "metadata": {
    "collapsed": true
   },
   "outputs": [],
   "source": [
    "clf = RandomForestClassifier()"
   ]
  },
  {
   "cell_type": "code",
   "execution_count": 321,
   "metadata": {
    "collapsed": false
   },
   "outputs": [
    {
     "name": "stderr",
     "output_type": "stream",
     "text": [
      "C:\\Users\\ssssa\\Anaconda2\\lib\\site-packages\\ipykernel\\__main__.py:1: DataConversionWarning: A column-vector y was passed when a 1d array was expected. Please change the shape of y to (n_samples,), for example using ravel().\n",
      "  if __name__ == '__main__':\n"
     ]
    },
    {
     "data": {
      "text/plain": [
       "RandomForestClassifier(bootstrap=True, class_weight=None, criterion='gini',\n",
       "            max_depth=None, max_features='auto', max_leaf_nodes=None,\n",
       "            min_samples_leaf=1, min_samples_split=2,\n",
       "            min_weight_fraction_leaf=0.0, n_estimators=10, n_jobs=1,\n",
       "            oob_score=False, random_state=None, verbose=0,\n",
       "            warm_start=False)"
      ]
     },
     "execution_count": 321,
     "metadata": {},
     "output_type": "execute_result"
    }
   ],
   "source": [
    "clf.fit(inputtrain,trainoutput)"
   ]
  },
  {
   "cell_type": "code",
   "execution_count": 322,
   "metadata": {
    "collapsed": false
   },
   "outputs": [
    {
     "data": {
      "text/plain": [
       "<bound method RandomForestClassifier.apply of RandomForestClassifier(bootstrap=True, class_weight=None, criterion='gini',\n",
       "            max_depth=None, max_features='auto', max_leaf_nodes=None,\n",
       "            min_samples_leaf=1, min_samples_split=2,\n",
       "            min_weight_fraction_leaf=0.0, n_estimators=10, n_jobs=1,\n",
       "            oob_score=False, random_state=None, verbose=0,\n",
       "            warm_start=False)>"
      ]
     },
     "execution_count": 322,
     "metadata": {},
     "output_type": "execute_result"
    }
   ],
   "source": [
    "clf.apply"
   ]
  },
  {
   "cell_type": "code",
   "execution_count": 323,
   "metadata": {
    "collapsed": false
   },
   "outputs": [
    {
     "data": {
      "text/plain": [
       "DecisionTreeClassifier(class_weight=None, criterion='gini', max_depth=None,\n",
       "            max_features=None, max_leaf_nodes=None, min_samples_leaf=1,\n",
       "            min_samples_split=2, min_weight_fraction_leaf=0.0,\n",
       "            presort=False, random_state=None, splitter='best')"
      ]
     },
     "execution_count": 323,
     "metadata": {},
     "output_type": "execute_result"
    }
   ],
   "source": [
    "clf.base_estimator"
   ]
  },
  {
   "cell_type": "code",
   "execution_count": 324,
   "metadata": {
    "collapsed": false
   },
   "outputs": [
    {
     "data": {
      "text/plain": [
       "True"
      ]
     },
     "execution_count": 324,
     "metadata": {},
     "output_type": "execute_result"
    }
   ],
   "source": [
    "clf.bootstrap"
   ]
  },
  {
   "cell_type": "code",
   "execution_count": 325,
   "metadata": {
    "collapsed": false
   },
   "outputs": [
    {
     "data": {
      "text/plain": [
       "array([1, 2], dtype=int64)"
      ]
     },
     "execution_count": 325,
     "metadata": {},
     "output_type": "execute_result"
    }
   ],
   "source": [
    "clf.classes_"
   ]
  },
  {
   "cell_type": "code",
   "execution_count": 326,
   "metadata": {
    "collapsed": false
   },
   "outputs": [
    {
     "data": {
      "text/plain": [
       "0.0"
      ]
     },
     "execution_count": 326,
     "metadata": {},
     "output_type": "execute_result"
    }
   ],
   "source": [
    "clf.min_weight_fraction_leaf"
   ]
  },
  {
   "cell_type": "code",
   "execution_count": 327,
   "metadata": {
    "collapsed": false
   },
   "outputs": [
    {
     "data": {
      "text/plain": [
       "2L"
      ]
     },
     "execution_count": 327,
     "metadata": {},
     "output_type": "execute_result"
    }
   ],
   "source": [
    "clf.n_classes_"
   ]
  },
  {
   "cell_type": "code",
   "execution_count": 328,
   "metadata": {
    "collapsed": true
   },
   "outputs": [],
   "source": [
    "y_pred= clf.predict(testinput)\n"
   ]
  },
  {
   "cell_type": "code",
   "execution_count": 329,
   "metadata": {
    "collapsed": false
   },
   "outputs": [
    {
     "data": {
      "text/plain": [
       "0.95918367346938771"
      ]
     },
     "execution_count": 329,
     "metadata": {},
     "output_type": "execute_result"
    }
   ],
   "source": [
    "accuracy_score(y_pred, testoutput)\n"
   ]
  },
  {
   "cell_type": "code",
   "execution_count": 330,
   "metadata": {
    "collapsed": false
   },
   "outputs": [
    {
     "data": {
      "text/plain": [
       "0.97916666666666663"
      ]
     },
     "execution_count": 330,
     "metadata": {},
     "output_type": "execute_result"
    }
   ],
   "source": [
    "f1_score(y_pred, testoutput)\n"
   ]
  },
  {
   "cell_type": "code",
   "execution_count": 331,
   "metadata": {
    "collapsed": false
   },
   "outputs": [
    {
     "data": {
      "text/plain": [
       "'             precision    recall  f1-score   support\\n\\n          1       1.00      0.96      0.98        98\\n          2       0.00      0.00      0.00         0\\n\\navg / total       1.00      0.96      0.98        98\\n'"
      ]
     },
     "execution_count": 331,
     "metadata": {},
     "output_type": "execute_result"
    }
   ],
   "source": [
    "classification_report(y_pred, testoutput)\n"
   ]
  },
  {
   "cell_type": "code",
   "execution_count": 332,
   "metadata": {
    "collapsed": false
   },
   "outputs": [
    {
     "data": {
      "text/plain": [
       "1.0"
      ]
     },
     "execution_count": 332,
     "metadata": {},
     "output_type": "execute_result"
    }
   ],
   "source": [
    "precision_score(y_pred, testoutput)\n"
   ]
  },
  {
   "cell_type": "code",
   "execution_count": 333,
   "metadata": {
    "collapsed": false
   },
   "outputs": [
    {
     "data": {
      "text/plain": [
       "0.95918367346938771"
      ]
     },
     "execution_count": 333,
     "metadata": {},
     "output_type": "execute_result"
    }
   ],
   "source": [
    "recall_score(y_pred, testoutput)"
   ]
  },
  {
   "cell_type": "code",
   "execution_count": null,
   "metadata": {
    "collapsed": true
   },
   "outputs": [],
   "source": []
  },
  {
   "cell_type": "code",
   "execution_count": 334,
   "metadata": {
    "collapsed": true
   },
   "outputs": [],
   "source": [
    "#Next phase is for validation the alogorthim to check for Over fitting"
   ]
  },
  {
   "cell_type": "code",
   "execution_count": 335,
   "metadata": {
    "collapsed": true
   },
   "outputs": [],
   "source": [
    "# Cross Validation"
   ]
  },
  {
   "cell_type": "code",
   "execution_count": 338,
   "metadata": {
    "collapsed": false
   },
   "outputs": [],
   "source": [
    "from sklearn.cross_validation import cross_val_score"
   ]
  },
  {
   "cell_type": "code",
   "execution_count": 339,
   "metadata": {
    "collapsed": false
   },
   "outputs": [],
   "source": [
    "clf = svm.SVC()"
   ]
  },
  {
   "cell_type": "code",
   "execution_count": 340,
   "metadata": {
    "collapsed": true
   },
   "outputs": [],
   "source": [
    "# for K=5\n"
   ]
  },
  {
   "cell_type": "code",
   "execution_count": 344,
   "metadata": {
    "collapsed": false
   },
   "outputs": [],
   "source": [
    "\n",
    "asd= trainoutput\n",
    "c= np.asarray(asd)\n",
    "asd=c.ravel()\n"
   ]
  },
  {
   "cell_type": "code",
   "execution_count": 346,
   "metadata": {
    "collapsed": false
   },
   "outputs": [],
   "source": [
    "scores = cross_val_score(clf, inputtrain, asd, cv=5)"
   ]
  },
  {
   "cell_type": "code",
   "execution_count": 347,
   "metadata": {
    "collapsed": false
   },
   "outputs": [
    {
     "data": {
      "text/plain": [
       "<function all>"
      ]
     },
     "execution_count": 347,
     "metadata": {},
     "output_type": "execute_result"
    }
   ],
   "source": [
    "scores.all"
   ]
  },
  {
   "cell_type": "code",
   "execution_count": 348,
   "metadata": {
    "collapsed": false
   },
   "outputs": [
    {
     "data": {
      "text/plain": [
       "array([ 0.96132597,  0.96111111,  0.96111111,  0.96648045,  0.96648045])"
      ]
     },
     "execution_count": 348,
     "metadata": {},
     "output_type": "execute_result"
    }
   ],
   "source": [
    "scores"
   ]
  },
  {
   "cell_type": "code",
   "execution_count": 349,
   "metadata": {
    "collapsed": false
   },
   "outputs": [
    {
     "data": {
      "text/plain": [
       "<function max>"
      ]
     },
     "execution_count": 349,
     "metadata": {},
     "output_type": "execute_result"
    }
   ],
   "source": [
    "scores.max"
   ]
  },
  {
   "cell_type": "code",
   "execution_count": 351,
   "metadata": {
    "collapsed": false
   },
   "outputs": [
    {
     "name": "stdout",
     "output_type": "stream",
     "text": [
      "Accuracy: 0.96 (+/- 0.01)\n"
     ]
    }
   ],
   "source": [
    "print(\"Accuracy: %0.2f (+/- %0.2f)\" % (scores.mean(), scores.std() * 2))"
   ]
  },
  {
   "cell_type": "code",
   "execution_count": 352,
   "metadata": {
    "collapsed": true
   },
   "outputs": [],
   "source": [
    "# for K=10\n"
   ]
  },
  {
   "cell_type": "code",
   "execution_count": 353,
   "metadata": {
    "collapsed": true
   },
   "outputs": [],
   "source": [
    "scores = cross_val_score(clf, inputtrain, asd, cv=10)"
   ]
  },
  {
   "cell_type": "code",
   "execution_count": 354,
   "metadata": {
    "collapsed": false
   },
   "outputs": [
    {
     "name": "stdout",
     "output_type": "stream",
     "text": [
      "Accuracy: 0.96 (+/- 0.01)\n"
     ]
    }
   ],
   "source": [
    "print(\"Accuracy: %0.2f (+/- %0.2f)\" % (scores.mean(), scores.std() * 2))"
   ]
  },
  {
   "cell_type": "code",
   "execution_count": 355,
   "metadata": {
    "collapsed": true
   },
   "outputs": [],
   "source": [
    "#Logistic regression\n"
   ]
  },
  {
   "cell_type": "code",
   "execution_count": 357,
   "metadata": {
    "collapsed": false
   },
   "outputs": [],
   "source": [
    "clf= LogisticRegression()"
   ]
  },
  {
   "cell_type": "code",
   "execution_count": 358,
   "metadata": {
    "collapsed": true
   },
   "outputs": [],
   "source": [
    "scores = cross_val_score(clf, inputtrain, asd, cv=5)"
   ]
  },
  {
   "cell_type": "code",
   "execution_count": 359,
   "metadata": {
    "collapsed": false
   },
   "outputs": [
    {
     "name": "stdout",
     "output_type": "stream",
     "text": [
      "Accuracy: 0.96 (+/- 0.01)\n"
     ]
    }
   ],
   "source": [
    "print(\"Accuracy: %0.2f (+/- %0.2f)\" % (scores.mean(), scores.std() * 2))"
   ]
  },
  {
   "cell_type": "code",
   "execution_count": 360,
   "metadata": {
    "collapsed": false
   },
   "outputs": [
    {
     "data": {
      "text/plain": [
       "array([ 0.96132597,  0.96111111,  0.96111111,  0.96648045,  0.96648045])"
      ]
     },
     "execution_count": 360,
     "metadata": {},
     "output_type": "execute_result"
    }
   ],
   "source": [
    "scores"
   ]
  },
  {
   "cell_type": "code",
   "execution_count": 362,
   "metadata": {
    "collapsed": true
   },
   "outputs": [],
   "source": [
    "#for k=10"
   ]
  },
  {
   "cell_type": "code",
   "execution_count": 363,
   "metadata": {
    "collapsed": true
   },
   "outputs": [],
   "source": [
    "scores = cross_val_score(clf, inputtrain, asd, cv=10)"
   ]
  },
  {
   "cell_type": "code",
   "execution_count": 364,
   "metadata": {
    "collapsed": false
   },
   "outputs": [
    {
     "name": "stdout",
     "output_type": "stream",
     "text": [
      "Accuracy: 0.96 (+/- 0.01)\n"
     ]
    }
   ],
   "source": [
    "print(\"Accuracy: %0.2f (+/- %0.2f)\" % (scores.mean(), scores.std() * 2))"
   ]
  },
  {
   "cell_type": "code",
   "execution_count": 365,
   "metadata": {
    "collapsed": false
   },
   "outputs": [
    {
     "data": {
      "text/plain": [
       "array([ 0.95604396,  0.95604396,  0.95604396,  0.96666667,  0.96666667,\n",
       "        0.96666667,  0.96629213,  0.96629213,  0.96629213,  0.96629213])"
      ]
     },
     "execution_count": 365,
     "metadata": {},
     "output_type": "execute_result"
    }
   ],
   "source": [
    "scores"
   ]
  },
  {
   "cell_type": "code",
   "execution_count": 367,
   "metadata": {
    "collapsed": false
   },
   "outputs": [],
   "source": [
    "#Trees"
   ]
  },
  {
   "cell_type": "code",
   "execution_count": 368,
   "metadata": {
    "collapsed": true
   },
   "outputs": [],
   "source": [
    "clf = tree.DecisionTreeClassifier()"
   ]
  },
  {
   "cell_type": "code",
   "execution_count": 369,
   "metadata": {
    "collapsed": true
   },
   "outputs": [],
   "source": [
    "#k=10"
   ]
  },
  {
   "cell_type": "code",
   "execution_count": 370,
   "metadata": {
    "collapsed": true
   },
   "outputs": [],
   "source": [
    "scores = cross_val_score(clf, inputtrain, asd, cv=10)"
   ]
  },
  {
   "cell_type": "code",
   "execution_count": 371,
   "metadata": {
    "collapsed": false
   },
   "outputs": [
    {
     "data": {
      "text/plain": [
       "array([ 0.89010989,  0.96703297,  0.93406593,  0.92222222,  0.92222222,\n",
       "        0.93333333,  0.94382022,  0.92134831,  0.95505618,  0.91011236])"
      ]
     },
     "execution_count": 371,
     "metadata": {},
     "output_type": "execute_result"
    }
   ],
   "source": [
    "scores"
   ]
  },
  {
   "cell_type": "code",
   "execution_count": 372,
   "metadata": {
    "collapsed": false
   },
   "outputs": [
    {
     "name": "stdout",
     "output_type": "stream",
     "text": [
      "Accuracy: 0.93 (+/- 0.04)\n"
     ]
    }
   ],
   "source": [
    "print(\"Accuracy: %0.2f (+/- %0.2f)\" % (scores.mean(), scores.std() * 2))"
   ]
  },
  {
   "cell_type": "code",
   "execution_count": 373,
   "metadata": {
    "collapsed": true
   },
   "outputs": [],
   "source": [
    "# K=5\n"
   ]
  },
  {
   "cell_type": "code",
   "execution_count": 374,
   "metadata": {
    "collapsed": true
   },
   "outputs": [],
   "source": [
    "scores = cross_val_score(clf, inputtrain, asd, cv=5)"
   ]
  },
  {
   "cell_type": "code",
   "execution_count": 375,
   "metadata": {
    "collapsed": false
   },
   "outputs": [
    {
     "data": {
      "text/plain": [
       "array([ 0.92265193,  0.91666667,  0.95      ,  0.84916201,  0.91620112])"
      ]
     },
     "execution_count": 375,
     "metadata": {},
     "output_type": "execute_result"
    }
   ],
   "source": [
    "scores"
   ]
  },
  {
   "cell_type": "code",
   "execution_count": 376,
   "metadata": {
    "collapsed": false
   },
   "outputs": [
    {
     "name": "stdout",
     "output_type": "stream",
     "text": [
      "Accuracy: 0.91 (+/- 0.07)\n"
     ]
    }
   ],
   "source": [
    "print(\"Accuracy: %0.2f (+/- %0.2f)\" % (scores.mean(), scores.std() * 2))"
   ]
  },
  {
   "cell_type": "code",
   "execution_count": null,
   "metadata": {
    "collapsed": true
   },
   "outputs": [],
   "source": []
  }
 ],
 "metadata": {
  "kernelspec": {
   "display_name": "Python 2",
   "language": "python",
   "name": "python2"
  },
  "language_info": {
   "codemirror_mode": {
    "name": "ipython",
    "version": 2
   },
   "file_extension": ".py",
   "mimetype": "text/x-python",
   "name": "python",
   "nbconvert_exporter": "python",
   "pygments_lexer": "ipython2",
   "version": "2.7.12"
  }
 },
 "nbformat": 4,
 "nbformat_minor": 0
}
